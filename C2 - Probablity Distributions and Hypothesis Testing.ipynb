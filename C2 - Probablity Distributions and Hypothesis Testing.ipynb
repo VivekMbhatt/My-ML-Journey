{
 "cells": [
  {
   "cell_type": "code",
   "execution_count": 2,
   "id": "38484b77-1c8c-427a-a95f-2fde76e6ff69",
   "metadata": {},
   "outputs": [],
   "source": [
    "import pandas as pd \n",
    "import matplotlib.pyplot as plt\n",
    "import seaborn as sns"
   ]
  },
  {
   "cell_type": "markdown",
   "id": "d29df705-85d3-4706-8ae3-d4e4b2c6de96",
   "metadata": {},
   "source": [
    "## Example of Binomial Distribution"
   ]
  },
  {
   "cell_type": "code",
   "execution_count": 4,
   "id": "e24added-63fa-4032-9285-5ead9e52005a",
   "metadata": {},
   "outputs": [],
   "source": [
    "## Fashion trend online (FTO), e-commerce \n",
    "## observation - 10% of the customers return their products,(various reasons)\n",
    "## on a specific day 20 customer purchased items.\n",
    "\n",
    "# Calculate ----\n",
    "  ## probability that exact 5 customer will return the items\n",
    "  ## probability that a max of 5 customer will return the items \n",
    "  ## probability that more than 5 customer will return\n",
    "  ## avg no. of customer s who are likely to return the items and variance & S.D. of number of returns."
   ]
  },
  {
   "cell_type": "markdown",
   "id": "e4a44c1f-6f58-4ade-b1d2-3de2df4f094a",
   "metadata": {},
   "source": [
    "### 1. Probability that exact 5 customer will return the items"
   ]
  },
  {
   "cell_type": "code",
   "execution_count": 6,
   "id": "cf5836a7-e907-47ee-ab7a-bd825c01b741",
   "metadata": {},
   "outputs": [
    {
     "data": {
      "text/plain": [
       "0.031921361119954424"
      ]
     },
     "execution_count": 6,
     "metadata": {},
     "output_type": "execute_result"
    }
   ],
   "source": [
    "from scipy import stats\n",
    "stats.binom.pmf (5, 20, 0.1)\n",
    "# where - pmf takes 3 parameters\n",
    "# 1. expected number of successful returns - 5,\n",
    "# 2. total number of trails(20)\n",
    "# 3. the probability of success(0.1)"
   ]
  },
  {
   "cell_type": "code",
   "execution_count": 7,
   "id": "3b74e6dc-df75-46f5-af1d-8f66dd934c29",
   "metadata": {},
   "outputs": [],
   "source": [
    "## So, probability that exact 5 customer will return the items is around 3%;"
   ]
  },
  {
   "cell_type": "code",
   "execution_count": 12,
   "id": "51215c24-0af2-4e1f-9666-5eaaeb4cec8a",
   "metadata": {},
   "outputs": [
    {
     "data": {
      "text/plain": [
       "Text(0.5, 0, 'number of items returned')"
      ]
     },
     "execution_count": 12,
     "metadata": {},
     "output_type": "execute_result"
    },
    {
     "data": {
      "image/png": "[encoded data removed]",
      "text/plain": [
       "<Figure size 640x480 with 1 Axes>"
      ]
     },
     "metadata": {},
     "output_type": "display_data"
    }
   ],
   "source": [
    "## to visualize how the pmf varies with increasing num of successful trials -\n",
    "## range (0,21) - returns all values from 0 to 20 (excluding 21)\n",
    "\n",
    "pmf_df = pd.DataFrame({'success': range(0,21), 'pmf' : list(stats.binom.pmf(range(0,21), 20, 0.1))})\n",
    "#creating a barplot with number of success as x and pmf as y\n",
    "sns.barplot(x=pmf_df.success, y = pmf_df.pmf)\n",
    "plt.ylabel('pmf')\n",
    "plt.xlabel('number of items returned')"
   ]
  },
  {
   "cell_type": "markdown",
   "id": "f3568eae-66a8-4720-ba65-f2001ed21d63",
   "metadata": {},
   "source": [
    "### 2. probability that a max of 5 customer will return the items "
   ]
  },
  {
   "cell_type": "code",
   "execution_count": 21,
   "id": "a983b025-1b65-4ef3-9a36-d0db14c90b9a",
   "metadata": {},
   "outputs": [
    {
     "data": {
      "text/plain": [
       "1.0"
      ]
     },
     "execution_count": 21,
     "metadata": {},
     "output_type": "execute_result"
    }
   ],
   "source": [
    "stats.binom.cdf(5, 20, 0,1)"
   ]
  },
  {
   "cell_type": "markdown",
   "id": "3acf0e92-b909-4f4e-a149-b0a85bd3c82a",
   "metadata": {},
   "source": [
    "### 3. probability that more than 5 customer will return"
   ]
  },
  {
   "cell_type": "code",
   "execution_count": 24,
   "id": "58f8a069-a733-4ccf-96fb-7b9b7726ecfc",
   "metadata": {},
   "outputs": [
    {
     "data": {
      "text/plain": [
       "0.011253134164509015"
      ]
     },
     "execution_count": 24,
     "metadata": {},
     "output_type": "execute_result"
    }
   ],
   "source": [
    "1 - stats.binom.cdf (5, 20, 0.1)"
   ]
  },
  {
   "cell_type": "markdown",
   "id": "26487e80-7997-4e51-8d1e-f9d35e95aa6b",
   "metadata": {},
   "source": [
    "### 4. Avg no. of customer s who are likely to return the items and variance & S.D. of number of returns."
   ]
  },
  {
   "cell_type": "code",
   "execution_count": 35,
   "id": "5d359844-7e84-4964-ab87-35a340742677",
   "metadata": {},
   "outputs": [
    {
     "name": "stdout",
     "output_type": "stream",
     "text": [
      "Average:  2.0 Variance:  1.8 S.D.:  1.3416407864998738\n"
     ]
    }
   ],
   "source": [
    "# (a) - avg of binomial distrbution - n*p\n",
    "# (b) - variance of the binomial distribution - n*p*(1-p)\n",
    "mean, var, = stats.binom.stats(20, 0.1)\n",
    "std = var**0.5\n",
    "print(\"Average: \", mean, \"Variance: \", var, \"S.D.: \", std)"
   ]
  },
  {
   "cell_type": "code",
   "execution_count": null,
   "id": "171d0130-f885-475f-8581-b8079dc5fc77",
   "metadata": {},
   "outputs": [],
   "source": [
    "\n",
    "\n"
   ]
  },
  {
   "cell_type": "markdown",
   "id": "2a189e06-e080-4762-be50-db07fbdd6227",
   "metadata": {},
   "source": [
    "## 2. POISSON DISTRIBUTION"
   ]
  },
  {
   "cell_type": "code",
   "execution_count": 40,
   "id": "77aee0d5-1c9e-4ef7-b860-ae428562cd44",
   "metadata": {},
   "outputs": [],
   "source": [
    "# The number of calls arriving at a call center follows a Poisson Distribution at 10 calls/ hour\n",
    "# 1. calculate the probability that the number of calls will be maximum 5,\n",
    "# 2. calculate the probability that the number of calls over a 3 hour period will exceed 30."
   ]
  },
  {
   "cell_type": "markdown",
   "id": "7861a57b-7d48-47b0-b90b-ba05a62018ce",
   "metadata": {},
   "source": [
    "### 1. Calculate the probability that the number of calls will be maximum 5,"
   ]
  },
  {
   "cell_type": "code",
   "execution_count": 44,
   "id": "53577834-4145-461a-a6e6-878306d30d32",
   "metadata": {},
   "outputs": [
    {
     "data": {
      "text/plain": [
       "0.06708596287903189"
      ]
     },
     "execution_count": 44,
     "metadata": {},
     "output_type": "execute_result"
    }
   ],
   "source": [
    "stats.poisson.cdf(5,10)"
   ]
  },
  {
   "cell_type": "markdown",
   "id": "d71a480f-6271-4250-be18-3d890661cf96",
   "metadata": {},
   "source": [
    "### 2.Calculate the probability that the number of calls over a 3 hour period will exceed 30."
   ]
  },
  {
   "cell_type": "code",
   "execution_count": 49,
   "id": "4816b392-162b-4334-bff0-6d45701f6b6d",
   "metadata": {},
   "outputs": [
    {
     "data": {
      "text/plain": [
       "0.45164848742208863"
      ]
     },
     "execution_count": 49,
     "metadata": {},
     "output_type": "execute_result"
    }
   ],
   "source": [
    "1 - stats.poisson.cdf(30,30)"
   ]
  },
  {
   "cell_type": "code",
   "execution_count": 51,
   "id": "57016dc5-71b6-4dd6-ad19-b5e5749b0ac1",
   "metadata": {},
   "outputs": [
    {
     "data": {
      "image/png": "[encoded data removed]",
      "text/plain": [
       "<Figure size 640x480 with 1 Axes>"
      ]
     },
     "metadata": {},
     "output_type": "display_data"
    }
   ],
   "source": [
    "# Range (0,30) returns all values from 0 to 30 (excluding 30)\n",
    "pmf_df = pd.DataFrame({'success': range(0,30), 'pmf': list(stats.poisson.pmf(range(0,30), 10))})\n",
    "# creating a barplot with number of calls as x and pmf as y\n",
    "sns.barplot(x = pmf_df.success, y = pmf_df.pmf);\n",
    "plt.xlabel('Number of calls Received');"
   ]
  },
  {
   "cell_type": "code",
   "execution_count": null,
   "id": "4650db55-63d2-4194-85f7-adb6bedf1e31",
   "metadata": {},
   "outputs": [],
   "source": []
  }
 ],
 "metadata": {
  "kernelspec": {
   "display_name": "Python [conda env:tf_env]",
   "language": "python",
   "name": "conda-env-tf_env-py"
  },
  "language_info": {
   "codemirror_mode": {
    "name": "ipython",
    "version": 3
   },
   "file_extension": ".py",
   "mimetype": "text/x-python",
   "name": "python",
   "nbconvert_exporter": "python",
   "pygments_lexer": "ipython3",
   "version": "3.10.18"
  }
 },
 "nbformat": 4,
 "nbformat_minor": 5
}
