{
 "cells": [
  {
   "cell_type": "code",
   "execution_count": 2,
   "id": "b597c3bc-62ee-414c-a259-9b2faa68e789",
   "metadata": {},
   "outputs": [],
   "source": [
    "import matplotlib.pyplot as plt\n",
    "import seaborn as sns\n",
    "%matplotlib inline"
   ]
  },
  {
   "cell_type": "code",
   "execution_count": 3,
   "id": "985cac40-57bc-423f-89bd-998d66ba9adf",
   "metadata": {},
   "outputs": [
    {
     "name": "stdout",
     "output_type": "stream",
     "text": [
      "x is less than y\n"
     ]
    }
   ],
   "source": [
    "## Conditional Statement\n",
    "x=100\n",
    "y=1200\n",
    "if x>y:\n",
    "    print(\"x is greater than y\")\n",
    "elif x<y:\n",
    "    print(\"x is less than y\")\n",
    "else:\n",
    "    print(\"x=y\")\n"
   ]
  },
  {
   "cell_type": "code",
   "execution_count": 4,
   "id": "feb81e4c-e97a-44ac-82f7-b23df9673126",
   "metadata": {},
   "outputs": [
    {
     "name": "stdout",
     "output_type": "stream",
     "text": [
      "True\n"
     ]
    }
   ],
   "source": [
    "#Ternary Operators\n",
    "x= 12\n",
    "isGreater = True if x>10 else False\n",
    "print(isGreater)"
   ]
  },
  {
   "cell_type": "code",
   "execution_count": 5,
   "id": "129c41f4-5f7d-484f-be52-cc72318bbd53",
   "metadata": {},
   "outputs": [
    {
     "data": {
      "text/plain": [
       "range(1, 6)"
      ]
     },
     "execution_count": 5,
     "metadata": {},
     "output_type": "execute_result"
    }
   ],
   "source": [
    "#Generating Sequence Numbers; to generate the seq. of numbers starting from 1\n",
    "numbers = range(1,6)\n",
    "numbers"
   ]
  },
  {
   "cell_type": "code",
   "execution_count": 6,
   "id": "5b437d39-92cc-4360-938a-9aae625c852c",
   "metadata": {},
   "outputs": [
    {
     "name": "stdout",
     "output_type": "stream",
     "text": [
      "1\n",
      "2\n",
      "3\n",
      "4\n",
      "5\n"
     ]
    }
   ],
   "source": [
    "#for() loop; \n",
    "for i in numbers:\n",
    "    print(i)"
   ]
  },
  {
   "cell_type": "code",
   "execution_count": 7,
   "id": "9d01cf59-1574-4e28-9015-6e0dc328028c",
   "metadata": {},
   "outputs": [
    {
     "name": "stdout",
     "output_type": "stream",
     "text": [
      "1,2,3,4,5,6,7,8,9,10,11,12,13,14,Done\n"
     ]
    }
   ],
   "source": [
    "#initialise the value of 1\n",
    "i = 1\n",
    "while i<15:\n",
    "    print(i,end=\",\")\n",
    "    i = i+1\n",
    "print(\"Done\")"
   ]
  },
  {
   "cell_type": "code",
   "execution_count": 8,
   "id": "6d111790-886b-484d-b7c4-d8be4e304c20",
   "metadata": {},
   "outputs": [],
   "source": [
    "# Functions; def\n",
    "def jodo(a,b):\n",
    "    return a+b"
   ]
  },
  {
   "cell_type": "code",
   "execution_count": 9,
   "id": "15778d24-d683-4402-9f04-72f5155ea4a1",
   "metadata": {},
   "outputs": [
    {
     "name": "stdout",
     "output_type": "stream",
     "text": [
      "872028438608\n"
     ]
    }
   ],
   "source": [
    "result = jodo(764724372,871263714236)\n",
    "print(result)"
   ]
  },
  {
   "cell_type": "code",
   "execution_count": 10,
   "id": "1e055677-32c9-4111-b0a9-cf90d3234c57",
   "metadata": {},
   "outputs": [
    {
     "name": "stdout",
     "output_type": "stream",
     "text": [
      "tonystarc\n"
     ]
    }
   ],
   "source": [
    "result2 = jodo(\"tony\",\"starc\")\n",
    "print(result2)"
   ]
  },
  {
   "cell_type": "code",
   "execution_count": 11,
   "id": "7926306c-bfba-4f3f-b159-123a24c95f7c",
   "metadata": {},
   "outputs": [],
   "source": [
    "def jodo(a, b=5):\n",
    "   return a+b"
   ]
  },
  {
   "cell_type": "code",
   "execution_count": 12,
   "id": "8d267106-958d-4d74-89e4-e3bd77f4fe38",
   "metadata": {},
   "outputs": [
    {
     "name": "stdout",
     "output_type": "stream",
     "text": [
      "7\n"
     ]
    }
   ],
   "source": [
    "result3= jodo(2)\n",
    "print(result3)"
   ]
  },
  {
   "cell_type": "code",
   "execution_count": 13,
   "id": "ed71e82d-86d6-44a0-b96b-7bfe2c17e3cd",
   "metadata": {},
   "outputs": [],
   "source": [
    "#working with collections\n",
    "#1.List, 2. Tuple, 3. Set, 4.Dictionary\n"
   ]
  },
  {
   "cell_type": "code",
   "execution_count": 14,
   "id": "ab5be9b4-558e-4f3a-8d34-ee77913f3cb1",
   "metadata": {},
   "outputs": [],
   "source": [
    "batsmen = [ 'rohit', 'dhawan','kohli','rahane','rayadu','dhoni']"
   ]
  },
  {
   "cell_type": "code",
   "execution_count": 15,
   "id": "2886308b-6e84-466c-afc9-526c31aaec31",
   "metadata": {},
   "outputs": [
    {
     "data": {
      "text/plain": [
       "'rohit'"
      ]
     },
     "execution_count": 15,
     "metadata": {},
     "output_type": "execute_result"
    }
   ],
   "source": [
    "batsmen[0]"
   ]
  },
  {
   "cell_type": "code",
   "execution_count": 16,
   "id": "cbea884d-4195-49fa-98ba-e015b24b0681",
   "metadata": {},
   "outputs": [
    {
     "data": {
      "text/plain": [
       "['rohit', 'dhawan']"
      ]
     },
     "execution_count": 16,
     "metadata": {},
     "output_type": "execute_result"
    }
   ],
   "source": [
    "# slicing\n",
    "batsmen[0:2]"
   ]
  },
  {
   "cell_type": "code",
   "execution_count": 17,
   "id": "2df8f267-590b-4eb1-ad38-1c01b2c1d67b",
   "metadata": {},
   "outputs": [
    {
     "data": {
      "text/plain": [
       "'dhoni'"
      ]
     },
     "execution_count": 17,
     "metadata": {},
     "output_type": "execute_result"
    }
   ],
   "source": [
    "#last element\n",
    "batsmen[-1]"
   ]
  },
  {
   "cell_type": "code",
   "execution_count": 18,
   "id": "81ee73bb-d32d-482b-bcbf-5576478b75c5",
   "metadata": {},
   "outputs": [
    {
     "data": {
      "text/plain": [
       "6"
      ]
     },
     "execution_count": 18,
     "metadata": {},
     "output_type": "execute_result"
    }
   ],
   "source": [
    "#to find out the number of elements in the list\n",
    "len(batsmen)"
   ]
  },
  {
   "cell_type": "code",
   "execution_count": 19,
   "id": "1fbf410e-1cf0-4047-ae19-8a34a4c20081",
   "metadata": {},
   "outputs": [],
   "source": [
    "bowlers = ['bumrah','shami','bhuvi','kuldeep','chahal']"
   ]
  },
  {
   "cell_type": "code",
   "execution_count": 20,
   "id": "1a8a3d57-9dbf-4e1a-9cd8-b39886f9e7f7",
   "metadata": {},
   "outputs": [],
   "source": [
    "all_players = batsmen + bowlers"
   ]
  },
  {
   "cell_type": "code",
   "execution_count": 21,
   "id": "8eeff52e-2d86-4bd4-bf7b-c6afb51a4bcf",
   "metadata": {},
   "outputs": [
    {
     "name": "stdout",
     "output_type": "stream",
     "text": [
      "['rohit', 'dhawan', 'kohli', 'rahane', 'rayadu', 'dhoni', 'bumrah', 'shami', 'bhuvi', 'kuldeep', 'chahal'] "
     ]
    }
   ],
   "source": [
    "print(all_players,end=\" \")"
   ]
  },
  {
   "cell_type": "code",
   "execution_count": 22,
   "id": "5801431c-24ac-410a-8516-1a896ed4b0cd",
   "metadata": {},
   "outputs": [
    {
     "data": {
      "text/plain": [
       "True"
      ]
     },
     "execution_count": 22,
     "metadata": {},
     "output_type": "execute_result"
    }
   ],
   "source": [
    "#in operator\n",
    "'bumrah' in bowlers"
   ]
  },
  {
   "cell_type": "code",
   "execution_count": 23,
   "id": "a06b8c92-4057-41f7-8648-47b55bdd5fc7",
   "metadata": {},
   "outputs": [
    {
     "data": {
      "text/plain": [
       "False"
      ]
     },
     "execution_count": 23,
     "metadata": {},
     "output_type": "execute_result"
    }
   ],
   "source": [
    "'rayadu' in bowlers"
   ]
  },
  {
   "cell_type": "code",
   "execution_count": 24,
   "id": "c9266f34-b860-4feb-ad3b-140cd6db19c9",
   "metadata": {},
   "outputs": [
    {
     "data": {
      "text/plain": [
       "5"
      ]
     },
     "execution_count": 24,
     "metadata": {},
     "output_type": "execute_result"
    }
   ],
   "source": [
    "all_players.index('dhoni')"
   ]
  },
  {
   "cell_type": "code",
   "execution_count": 25,
   "id": "7a70a01b-68db-4161-a053-f4e66a68ad97",
   "metadata": {},
   "outputs": [
    {
     "data": {
      "text/plain": [
       "['chahal',\n",
       " 'kuldeep',\n",
       " 'bhuvi',\n",
       " 'shami',\n",
       " 'bumrah',\n",
       " 'dhoni',\n",
       " 'rayadu',\n",
       " 'rahane',\n",
       " 'kohli',\n",
       " 'dhawan',\n",
       " 'rohit']"
      ]
     },
     "execution_count": 25,
     "metadata": {},
     "output_type": "execute_result"
    }
   ],
   "source": [
    "all_players.reverse()\n",
    "all_players"
   ]
  },
  {
   "cell_type": "code",
   "execution_count": 26,
   "id": "918f03e3-9adc-48c5-a6e3-df0c76ca0693",
   "metadata": {},
   "outputs": [
    {
     "data": {
      "text/plain": [
       "('Kohli', 2008)"
      ]
     },
     "execution_count": 26,
     "metadata": {},
     "output_type": "execute_result"
    }
   ],
   "source": [
    "#TUPLE\n",
    "odiDebut = ('Kohli',2008)\n",
    "odiDebut"
   ]
  },
  {
   "cell_type": "code",
   "execution_count": 27,
   "id": "bcdcd371-7e5f-471a-bb10-a15fdb3f8f65",
   "metadata": {},
   "outputs": [
    {
     "data": {
      "text/plain": [
       "'Kohli'"
      ]
     },
     "execution_count": 27,
     "metadata": {},
     "output_type": "execute_result"
    }
   ],
   "source": [
    "odiDebut[0]"
   ]
  },
  {
   "cell_type": "code",
   "execution_count": 28,
   "id": "7613b4dd-50ae-44ae-9292-ecbf5951cb54",
   "metadata": {},
   "outputs": [
    {
     "data": {
      "text/plain": [
       "('chahal',\n",
       " 'kuldeep',\n",
       " 'bhuvi',\n",
       " 'shami',\n",
       " 'bumrah',\n",
       " 'dhoni',\n",
       " 'rayadu',\n",
       " 'rahane',\n",
       " 'kohli',\n",
       " 'dhawan',\n",
       " 'rohit')"
      ]
     },
     "execution_count": 28,
     "metadata": {},
     "output_type": "execute_result"
    }
   ],
   "source": [
    "players = tuple(all_players)\n",
    "players"
   ]
  },
  {
   "cell_type": "code",
   "execution_count": 29,
   "id": "e95afd95-1a13-48ff-9887-e7488dcc1dc1",
   "metadata": {},
   "outputs": [],
   "source": [
    "## SET - collection of unique numbers, values can not repeat\n",
    "setofnumbers = {6,1,1,2,4,5}"
   ]
  },
  {
   "cell_type": "code",
   "execution_count": 30,
   "id": "511ab2ef-505b-46e8-9ef5-dc8a6ba66ac7",
   "metadata": {},
   "outputs": [
    {
     "data": {
      "text/plain": [
       "{1, 2, 4, 5, 6}"
      ]
     },
     "execution_count": 30,
     "metadata": {},
     "output_type": "execute_result"
    }
   ],
   "source": [
    "setofnumbers"
   ]
  },
  {
   "cell_type": "code",
   "execution_count": 31,
   "id": "216c017b-9cfc-4094-8de5-41924b6e5a51",
   "metadata": {},
   "outputs": [],
   "source": [
    "wc2011 = {\"dhoni\",\"sehwag\",\"sachin\",\"gambhir\",\"kohli\",\"raina\",\"yuvi\",\"yusuf\"}\n",
    "wc2015 = {\"dhoni\",\"dhawan\",\"rohit\",\"rahane\",\"kohli\",\"raina\",\"rayadu\",\"jadeja\"}"
   ]
  },
  {
   "cell_type": "code",
   "execution_count": 32,
   "id": "00725a98-1187-40cb-9ae5-01b0ea52f591",
   "metadata": {},
   "outputs": [
    {
     "data": {
      "text/plain": [
       "{'dhawan',\n",
       " 'dhoni',\n",
       " 'gambhir',\n",
       " 'jadeja',\n",
       " 'kohli',\n",
       " 'rahane',\n",
       " 'raina',\n",
       " 'rayadu',\n",
       " 'rohit',\n",
       " 'sachin',\n",
       " 'sehwag',\n",
       " 'yusuf',\n",
       " 'yuvi'}"
      ]
     },
     "execution_count": 32,
     "metadata": {},
     "output_type": "execute_result"
    }
   ],
   "source": [
    "# union of both sets..(list of all the batsmen who either played in 2011 or 2015)\n",
    "wc2011.union(wc2015)"
   ]
  },
  {
   "cell_type": "code",
   "execution_count": 33,
   "id": "fc53e29d-0a94-4935-88d4-4b7f6550e6a6",
   "metadata": {},
   "outputs": [
    {
     "data": {
      "text/plain": [
       "{'dhoni', 'kohli', 'raina'}"
      ]
     },
     "execution_count": 33,
     "metadata": {},
     "output_type": "execute_result"
    }
   ],
   "source": [
    "# intersection- to find the list of all the batsmen who played for both 2011 and 2015\n",
    "wc2011.intersection(wc2015)"
   ]
  },
  {
   "cell_type": "code",
   "execution_count": 34,
   "id": "d13d377a-146b-4cae-9fb5-b18ac3109771",
   "metadata": {},
   "outputs": [
    {
     "data": {
      "text/plain": [
       "{'dhawan', 'jadeja', 'rahane', 'rayadu', 'rohit'}"
      ]
     },
     "execution_count": 34,
     "metadata": {},
     "output_type": "execute_result"
    }
   ],
   "source": [
    "# new batsmen who were not a part of 2011 wc but played 2015\n",
    "wc2015.difference(wc2011)"
   ]
  },
  {
   "cell_type": "code",
   "execution_count": 35,
   "id": "b75bae80-3dc0-4867-a8a3-e813a0a90bfd",
   "metadata": {},
   "outputs": [],
   "source": [
    "### DICTIONARY = a list of key and value pairs; all keys unique;"
   ]
  },
  {
   "cell_type": "code",
   "execution_count": 36,
   "id": "43ab6e1e-b263-4a57-8e52-23f84379fb39",
   "metadata": {},
   "outputs": [],
   "source": [
    "wcWinners = {1975: \"WI\",\n",
    "             1979: \"WI\",\n",
    "             1983: \"IN\",\n",
    "             1987: \"AUS\",\n",
    "             1991: \"PAK\",\n",
    "             1996: \"SL\",\n",
    "             1999: \"AUS\",\n",
    "             2003: \"AUS\",\n",
    "             2007: \"AUS\",\n",
    "             2011: \"IN\"}\n",
    "## here the key is year of the tournament, and value is the name of the winning country"
   ]
  },
  {
   "cell_type": "code",
   "execution_count": 37,
   "id": "11656517-a0dc-4301-bdbe-4a4dde906664",
   "metadata": {},
   "outputs": [
    {
     "data": {
      "text/plain": [
       "'IN'"
      ]
     },
     "execution_count": 37,
     "metadata": {},
     "output_type": "execute_result"
    }
   ],
   "source": [
    "wcWinners[1983]"
   ]
  },
  {
   "cell_type": "code",
   "execution_count": 38,
   "id": "36b12164-8e5e-4139-9239-e97f3fd0f402",
   "metadata": {},
   "outputs": [
    {
     "data": {
      "text/plain": [
       "dict_values(['WI', 'WI', 'IN', 'AUS', 'PAK', 'SL', 'AUS', 'AUS', 'AUS', 'IN'])"
      ]
     },
     "execution_count": 38,
     "metadata": {},
     "output_type": "execute_result"
    }
   ],
   "source": [
    "wcWinners.values()"
   ]
  },
  {
   "cell_type": "code",
   "execution_count": 39,
   "id": "e9b02e14-cee8-4a26-8de1-3acde8ca4e0c",
   "metadata": {},
   "outputs": [
    {
     "data": {
      "text/plain": [
       "{'AUS', 'IN', 'PAK', 'SL', 'WI'}"
      ]
     },
     "execution_count": 39,
     "metadata": {},
     "output_type": "execute_result"
    }
   ],
   "source": [
    "set(wcWinners.values())"
   ]
  },
  {
   "cell_type": "markdown",
   "id": "a0949243-7174-477d-9817-1d360cbba177",
   "metadata": {},
   "source": [
    "DEALING WITH STRINGS (can use both single/double quotes)\n"
   ]
  },
  {
   "cell_type": "code",
   "execution_count": 41,
   "id": "684d3b94-c6ee-4fe5-9fcb-0431843eef82",
   "metadata": {},
   "outputs": [],
   "source": [
    "string0 = 'python'\n",
    "string1 = \"MACHINE LEARNING\""
   ]
  },
  {
   "cell_type": "code",
   "execution_count": 42,
   "id": "13065ca8-c9a7-4b2b-8ca0-54629602ff7b",
   "metadata": {},
   "outputs": [
    {
     "data": {
      "text/plain": [
       "'PYTHON'"
      ]
     },
     "execution_count": 42,
     "metadata": {},
     "output_type": "execute_result"
    }
   ],
   "source": [
    "#upper case letter\n",
    "string0.upper()"
   ]
  },
  {
   "cell_type": "code",
   "execution_count": 43,
   "id": "7727b935-e52e-49e1-9474-45e21ce85485",
   "metadata": {},
   "outputs": [
    {
     "data": {
      "text/plain": [
       "'machine learning'"
      ]
     },
     "execution_count": 43,
     "metadata": {},
     "output_type": "execute_result"
    }
   ],
   "source": [
    "#lower case letter operator\n",
    "string1.lower()"
   ]
  },
  {
   "cell_type": "code",
   "execution_count": 44,
   "id": "18c4d104-0fba-4066-a83a-2ec149510ba7",
   "metadata": {},
   "outputs": [
    {
     "data": {
      "text/plain": [
       "['MACHINE', 'LEARNING']"
      ]
     },
     "execution_count": 44,
     "metadata": {},
     "output_type": "execute_result"
    }
   ],
   "source": [
    "# for splitting the string into a list of words or \"tokens\"[Seperated by space]\n",
    "tokens = string1.split(' ')\n",
    "tokens"
   ]
  },
  {
   "cell_type": "markdown",
   "id": "af65a69b-98f9-4257-89b3-f1beb6de6c8b",
   "metadata": {},
   "source": [
    "FUNCTIONAL PROGRAMMING\n",
    "- functions being passed as parameters to another function;\n",
    "- allows us to create higher order functions;\n",
    "- benefit; in applying transformations or filters to a set of records or colums more efficiently;"
   ]
  },
  {
   "cell_type": "code",
   "execution_count": 46,
   "id": "55c13700-a44b-4462-972c-c0e0a5d24937",
   "metadata": {},
   "outputs": [
    {
     "name": "stdout",
     "output_type": "stream",
     "text": [
      "[1, 4, 9, 16, 25, 36, 49, 64, 81]\n"
     ]
    }
   ],
   "source": [
    "#EXAMPLE 1 - MAP\n",
    "intList = [1,2,3,4,5,6,7,8,9]\n",
    "# we want to create another list named squarelist(square of each element of intlist)\n",
    "#normally we would go for the loop \n",
    "squarelist = []\n",
    "for x in intList:\n",
    "    squarelist.append(pow(x,2))\n",
    "print(squarelist)"
   ]
  },
  {
   "cell_type": "markdown",
   "id": "52077b64-2958-4758-b382-a9d6099b7f0c",
   "metadata": {},
   "source": [
    "The above code is verbose and not-efficient;\n",
    "the loop transforms items in sequential fashion and has no scope of parrallel processing;"
   ]
  },
  {
   "cell_type": "markdown",
   "id": "8b7ddb93-599b-49c6-b17f-45bcbb8c5dbd",
   "metadata": {},
   "source": [
    "NOW WE WILL USE THE FUNCTIONAL PROGRAMMING"
   ]
  },
  {
   "cell_type": "code",
   "execution_count": 49,
   "id": "38e90c2d-de1c-433c-8d6c-8ae9872fffbe",
   "metadata": {},
   "outputs": [],
   "source": [
    "# step 1 - def a f'n square_me() that takes an integer and returns the square value of it;\n",
    "def square_me(x):\n",
    "    return x*x"
   ]
  },
  {
   "cell_type": "code",
   "execution_count": 50,
   "id": "87cd3dd3-5f9e-40ea-9903-6c9535d0ef74",
   "metadata": {},
   "outputs": [
    {
     "data": {
      "text/plain": [
       "[1, 4, 9, 16, 25, 36, 49, 64, 81]"
      ]
     },
     "execution_count": 50,
     "metadata": {},
     "output_type": "execute_result"
    }
   ],
   "source": [
    "# step 2 - now the f'n square_me() and the list of integers can be passed to a higher order f'n map()\n",
    "#map() iterates through the list and transforms each elements using the f'n;\n",
    "\n",
    "SquareList = map(square_me, intList)\n",
    "# now printing the result as a list\n",
    "list(SquareList)"
   ]
  },
  {
   "cell_type": "code",
   "execution_count": 51,
   "id": "ffb99fda-0e2d-48a8-8e86-520eeb7335bb",
   "metadata": {},
   "outputs": [
    {
     "data": {
      "text/plain": [
       "[1, 4, 9, 16, 25, 36, 49, 64, 81]"
      ]
     },
     "execution_count": 51,
     "metadata": {},
     "output_type": "execute_result"
    }
   ],
   "source": [
    "# writing the above map using anonymous function;\n",
    "# Anonymous F'n is a f'n without a name and is defined using \"lambda\" keyword!\n",
    "\n",
    "squareList = map(lambda x: x*x, intList)\n",
    "list(squareList)"
   ]
  },
  {
   "cell_type": "markdown",
   "id": "0aa4cc49-c4be-4410-8022-dfe3a0236957",
   "metadata": {},
   "source": [
    "Example 2 - \"Filter\" "
   ]
  },
  {
   "cell_type": "code",
   "execution_count": 53,
   "id": "ed242d19-2bad-4cf1-b1fa-d201bd2748b4",
   "metadata": {},
   "outputs": [
    {
     "data": {
      "text/plain": [
       "[2, 4, 6, 8]"
      ]
     },
     "execution_count": 53,
     "metadata": {},
     "output_type": "execute_result"
    }
   ],
   "source": [
    "evenInts = filter(lambda x: x%2 == 0,intList)\n",
    "list(evenInts)"
   ]
  },
  {
   "cell_type": "markdown",
   "id": "a4476444-d727-45c3-bea8-bc9a62a4ae3b",
   "metadata": {},
   "source": [
    "Modules and Packages "
   ]
  },
  {
   "cell_type": "code",
   "execution_count": 55,
   "id": "9678f808-f893-4bb0-b9cc-d1e9b50128ed",
   "metadata": {},
   "outputs": [
    {
     "data": {
      "text/plain": [
       "9.9498743710662"
      ]
     },
     "execution_count": 55,
     "metadata": {},
     "output_type": "execute_result"
    }
   ],
   "source": [
    "import math\n",
    "math.sqrt(99)"
   ]
  },
  {
   "cell_type": "code",
   "execution_count": 56,
   "id": "d2b79e9b-16c3-4fc6-9503-004f912cd9c0",
   "metadata": {},
   "outputs": [
    {
     "data": {
      "text/plain": [
       "[2, 0, 8]"
      ]
     },
     "execution_count": 56,
     "metadata": {},
     "output_type": "execute_result"
    }
   ],
   "source": [
    "from random import sample\n",
    "sample(range(0,11),3)\n",
    "# the code helps to generate 3 random numbers bw 0 and 10"
   ]
  },
  {
   "cell_type": "markdown",
   "id": "a669fe22-91ab-46ea-b92f-0c3be05932c7",
   "metadata": {},
   "source": [
    "CHAPTER -- 2\n",
    "Descriptive Analytics"
   ]
  },
  {
   "cell_type": "code",
   "execution_count": 58,
   "id": "7a440f84-a01c-4f3f-ace1-396ce4569aba",
   "metadata": {},
   "outputs": [],
   "source": [
    "import pandas as pd"
   ]
  },
  {
   "cell_type": "code",
   "execution_count": 59,
   "id": "c5dc1287-39e8-4447-a60a-06a05c57914a",
   "metadata": {},
   "outputs": [],
   "source": [
    "ipl_auction_df = pd.read_csv('IPL IMB381IPL2013.csv')"
   ]
  },
  {
   "cell_type": "code",
   "execution_count": 60,
   "id": "533d4d38-6929-4ac2-bdea-e0f88604a1ee",
   "metadata": {},
   "outputs": [
    {
     "data": {
      "text/plain": [
       "str"
      ]
     },
     "execution_count": 60,
     "metadata": {},
     "output_type": "execute_result"
    }
   ],
   "source": [
    "type('ipl_auction_df')"
   ]
  },
  {
   "cell_type": "code",
   "execution_count": 61,
   "id": "0d1c6cea-1698-4f06-ac56-25e09d7ed166",
   "metadata": {},
   "outputs": [
    {
     "data": {
      "text/html": [
       "<div>\n",
       "<style scoped>\n",
       "    .dataframe tbody tr th:only-of-type {\n",
       "        vertical-align: middle;\n",
       "    }\n",
       "\n",
       "    .dataframe tbody tr th {\n",
       "        vertical-align: top;\n",
       "    }\n",
       "\n",
       "    .dataframe thead th {\n",
       "        text-align: right;\n",
       "    }\n",
       "</style>\n",
       "<table border=\"1\" class=\"dataframe\">\n",
       "  <thead>\n",
       "    <tr style=\"text-align: right;\">\n",
       "      <th></th>\n",
       "      <th>Sl.NO.</th>\n",
       "      <th>PLAYER NAME</th>\n",
       "      <th>AGE</th>\n",
       "      <th>...</th>\n",
       "      <th>AUCTION YEAR</th>\n",
       "      <th>BASE PRICE</th>\n",
       "      <th>SOLD PRICE</th>\n",
       "    </tr>\n",
       "  </thead>\n",
       "  <tbody>\n",
       "    <tr>\n",
       "      <th>0</th>\n",
       "      <td>1</td>\n",
       "      <td>Abdulla, YA</td>\n",
       "      <td>2</td>\n",
       "      <td>...</td>\n",
       "      <td>2009</td>\n",
       "      <td>50000</td>\n",
       "      <td>50000</td>\n",
       "    </tr>\n",
       "    <tr>\n",
       "      <th>1</th>\n",
       "      <td>2</td>\n",
       "      <td>Abdur Razzak</td>\n",
       "      <td>2</td>\n",
       "      <td>...</td>\n",
       "      <td>2008</td>\n",
       "      <td>50000</td>\n",
       "      <td>50000</td>\n",
       "    </tr>\n",
       "    <tr>\n",
       "      <th>2</th>\n",
       "      <td>3</td>\n",
       "      <td>Agarkar, AB</td>\n",
       "      <td>2</td>\n",
       "      <td>...</td>\n",
       "      <td>2008</td>\n",
       "      <td>200000</td>\n",
       "      <td>350000</td>\n",
       "    </tr>\n",
       "    <tr>\n",
       "      <th>3</th>\n",
       "      <td>4</td>\n",
       "      <td>Ashwin, R</td>\n",
       "      <td>1</td>\n",
       "      <td>...</td>\n",
       "      <td>2011</td>\n",
       "      <td>100000</td>\n",
       "      <td>850000</td>\n",
       "    </tr>\n",
       "    <tr>\n",
       "      <th>4</th>\n",
       "      <td>5</td>\n",
       "      <td>Badrinath, S</td>\n",
       "      <td>2</td>\n",
       "      <td>...</td>\n",
       "      <td>2011</td>\n",
       "      <td>100000</td>\n",
       "      <td>800000</td>\n",
       "    </tr>\n",
       "  </tbody>\n",
       "</table>\n",
       "<p>5 rows × 26 columns</p>\n",
       "</div>"
      ],
      "text/plain": [
       "   Sl.NO.   PLAYER NAME  AGE  ... AUCTION YEAR BASE PRICE SOLD PRICE\n",
       "0       1   Abdulla, YA    2  ...         2009      50000      50000\n",
       "1       2  Abdur Razzak    2  ...         2008      50000      50000\n",
       "2       3   Agarkar, AB    2  ...         2008     200000     350000\n",
       "3       4     Ashwin, R    1  ...         2011     100000     850000\n",
       "4       5  Badrinath, S    2  ...         2011     100000     800000\n",
       "\n",
       "[5 rows x 26 columns]"
      ]
     },
     "execution_count": 61,
     "metadata": {},
     "output_type": "execute_result"
    }
   ],
   "source": [
    "# displaying first few records of the data frame-\n",
    "pd.set_option('display.max_columns',7)\n",
    "ipl_auction_df.head(5)"
   ]
  },
  {
   "cell_type": "code",
   "execution_count": 62,
   "id": "f1498500-0911-4927-be76-1c6969132352",
   "metadata": {},
   "outputs": [
    {
     "data": {
      "text/plain": [
       "['Sl.NO.',\n",
       " 'PLAYER NAME',\n",
       " 'AGE',\n",
       " 'COUNTRY',\n",
       " 'TEAM',\n",
       " 'PLAYING ROLE',\n",
       " 'T-RUNS',\n",
       " 'T-WKTS',\n",
       " 'ODI-RUNS-S',\n",
       " 'ODI-SR-B',\n",
       " 'ODI-WKTS',\n",
       " 'ODI-SR-BL',\n",
       " 'CAPTAINCY EXP',\n",
       " 'RUNS-S',\n",
       " 'HS',\n",
       " 'AVE',\n",
       " 'SR-B',\n",
       " 'SIXERS',\n",
       " 'RUNS-C',\n",
       " 'WKTS',\n",
       " 'AVE-BL',\n",
       " 'ECON',\n",
       " 'SR-BL',\n",
       " 'AUCTION YEAR',\n",
       " 'BASE PRICE',\n",
       " 'SOLD PRICE']"
      ]
     },
     "execution_count": 62,
     "metadata": {},
     "output_type": "execute_result"
    }
   ],
   "source": [
    "#finding summary of the DF; for the column attribute\n",
    "list(ipl_auction_df.columns)"
   ]
  },
  {
   "cell_type": "code",
   "execution_count": 63,
   "id": "15bac701-b78c-42b4-a454-372d3a6c146b",
   "metadata": {},
   "outputs": [
    {
     "data": {
      "text/html": [
       "<div>\n",
       "<style scoped>\n",
       "    .dataframe tbody tr th:only-of-type {\n",
       "        vertical-align: middle;\n",
       "    }\n",
       "\n",
       "    .dataframe tbody tr th {\n",
       "        vertical-align: top;\n",
       "    }\n",
       "\n",
       "    .dataframe thead th {\n",
       "        text-align: right;\n",
       "    }\n",
       "</style>\n",
       "<table border=\"1\" class=\"dataframe\">\n",
       "  <thead>\n",
       "    <tr style=\"text-align: right;\">\n",
       "      <th></th>\n",
       "      <th>0</th>\n",
       "      <th>1</th>\n",
       "      <th>2</th>\n",
       "      <th>3</th>\n",
       "      <th>4</th>\n",
       "    </tr>\n",
       "  </thead>\n",
       "  <tbody>\n",
       "    <tr>\n",
       "      <th>Sl.NO.</th>\n",
       "      <td>1</td>\n",
       "      <td>2</td>\n",
       "      <td>3</td>\n",
       "      <td>4</td>\n",
       "      <td>5</td>\n",
       "    </tr>\n",
       "    <tr>\n",
       "      <th>PLAYER NAME</th>\n",
       "      <td>Abdulla, YA</td>\n",
       "      <td>Abdur Razzak</td>\n",
       "      <td>Agarkar, AB</td>\n",
       "      <td>Ashwin, R</td>\n",
       "      <td>Badrinath, S</td>\n",
       "    </tr>\n",
       "    <tr>\n",
       "      <th>AGE</th>\n",
       "      <td>2</td>\n",
       "      <td>2</td>\n",
       "      <td>2</td>\n",
       "      <td>1</td>\n",
       "      <td>2</td>\n",
       "    </tr>\n",
       "    <tr>\n",
       "      <th>COUNTRY</th>\n",
       "      <td>SA</td>\n",
       "      <td>BAN</td>\n",
       "      <td>IND</td>\n",
       "      <td>IND</td>\n",
       "      <td>IND</td>\n",
       "    </tr>\n",
       "    <tr>\n",
       "      <th>TEAM</th>\n",
       "      <td>KXIP</td>\n",
       "      <td>RCB</td>\n",
       "      <td>KKR</td>\n",
       "      <td>CSK</td>\n",
       "      <td>CSK</td>\n",
       "    </tr>\n",
       "    <tr>\n",
       "      <th>PLAYING ROLE</th>\n",
       "      <td>Allrounder</td>\n",
       "      <td>Bowler</td>\n",
       "      <td>Bowler</td>\n",
       "      <td>Bowler</td>\n",
       "      <td>Batsman</td>\n",
       "    </tr>\n",
       "    <tr>\n",
       "      <th>T-RUNS</th>\n",
       "      <td>0</td>\n",
       "      <td>214</td>\n",
       "      <td>571</td>\n",
       "      <td>284</td>\n",
       "      <td>63</td>\n",
       "    </tr>\n",
       "    <tr>\n",
       "      <th>T-WKTS</th>\n",
       "      <td>0</td>\n",
       "      <td>18</td>\n",
       "      <td>58</td>\n",
       "      <td>31</td>\n",
       "      <td>0</td>\n",
       "    </tr>\n",
       "    <tr>\n",
       "      <th>ODI-RUNS-S</th>\n",
       "      <td>0</td>\n",
       "      <td>657</td>\n",
       "      <td>1269</td>\n",
       "      <td>241</td>\n",
       "      <td>79</td>\n",
       "    </tr>\n",
       "    <tr>\n",
       "      <th>ODI-SR-B</th>\n",
       "      <td>0.0</td>\n",
       "      <td>71.41</td>\n",
       "      <td>80.62</td>\n",
       "      <td>84.56</td>\n",
       "      <td>45.93</td>\n",
       "    </tr>\n",
       "    <tr>\n",
       "      <th>ODI-WKTS</th>\n",
       "      <td>0</td>\n",
       "      <td>185</td>\n",
       "      <td>288</td>\n",
       "      <td>51</td>\n",
       "      <td>0</td>\n",
       "    </tr>\n",
       "    <tr>\n",
       "      <th>ODI-SR-BL</th>\n",
       "      <td>0.0</td>\n",
       "      <td>37.6</td>\n",
       "      <td>32.9</td>\n",
       "      <td>36.8</td>\n",
       "      <td>0.0</td>\n",
       "    </tr>\n",
       "    <tr>\n",
       "      <th>CAPTAINCY EXP</th>\n",
       "      <td>0</td>\n",
       "      <td>0</td>\n",
       "      <td>0</td>\n",
       "      <td>0</td>\n",
       "      <td>0</td>\n",
       "    </tr>\n",
       "    <tr>\n",
       "      <th>RUNS-S</th>\n",
       "      <td>0</td>\n",
       "      <td>0</td>\n",
       "      <td>167</td>\n",
       "      <td>58</td>\n",
       "      <td>1317</td>\n",
       "    </tr>\n",
       "    <tr>\n",
       "      <th>HS</th>\n",
       "      <td>0</td>\n",
       "      <td>0</td>\n",
       "      <td>39</td>\n",
       "      <td>11</td>\n",
       "      <td>71</td>\n",
       "    </tr>\n",
       "    <tr>\n",
       "      <th>AVE</th>\n",
       "      <td>0.0</td>\n",
       "      <td>0.0</td>\n",
       "      <td>18.56</td>\n",
       "      <td>5.8</td>\n",
       "      <td>32.93</td>\n",
       "    </tr>\n",
       "    <tr>\n",
       "      <th>SR-B</th>\n",
       "      <td>0.0</td>\n",
       "      <td>0.0</td>\n",
       "      <td>121.01</td>\n",
       "      <td>76.32</td>\n",
       "      <td>120.71</td>\n",
       "    </tr>\n",
       "    <tr>\n",
       "      <th>SIXERS</th>\n",
       "      <td>0</td>\n",
       "      <td>0</td>\n",
       "      <td>5</td>\n",
       "      <td>0</td>\n",
       "      <td>28</td>\n",
       "    </tr>\n",
       "    <tr>\n",
       "      <th>RUNS-C</th>\n",
       "      <td>307</td>\n",
       "      <td>29</td>\n",
       "      <td>1059</td>\n",
       "      <td>1125</td>\n",
       "      <td>0</td>\n",
       "    </tr>\n",
       "    <tr>\n",
       "      <th>WKTS</th>\n",
       "      <td>15</td>\n",
       "      <td>0</td>\n",
       "      <td>29</td>\n",
       "      <td>49</td>\n",
       "      <td>0</td>\n",
       "    </tr>\n",
       "    <tr>\n",
       "      <th>AVE-BL</th>\n",
       "      <td>20.47</td>\n",
       "      <td>0.0</td>\n",
       "      <td>36.52</td>\n",
       "      <td>22.96</td>\n",
       "      <td>0.0</td>\n",
       "    </tr>\n",
       "    <tr>\n",
       "      <th>ECON</th>\n",
       "      <td>8.9</td>\n",
       "      <td>14.5</td>\n",
       "      <td>8.81</td>\n",
       "      <td>6.23</td>\n",
       "      <td>0.0</td>\n",
       "    </tr>\n",
       "    <tr>\n",
       "      <th>SR-BL</th>\n",
       "      <td>13.93</td>\n",
       "      <td>0.0</td>\n",
       "      <td>24.9</td>\n",
       "      <td>22.14</td>\n",
       "      <td>0.0</td>\n",
       "    </tr>\n",
       "    <tr>\n",
       "      <th>AUCTION YEAR</th>\n",
       "      <td>2009</td>\n",
       "      <td>2008</td>\n",
       "      <td>2008</td>\n",
       "      <td>2011</td>\n",
       "      <td>2011</td>\n",
       "    </tr>\n",
       "    <tr>\n",
       "      <th>BASE PRICE</th>\n",
       "      <td>50000</td>\n",
       "      <td>50000</td>\n",
       "      <td>200000</td>\n",
       "      <td>100000</td>\n",
       "      <td>100000</td>\n",
       "    </tr>\n",
       "    <tr>\n",
       "      <th>SOLD PRICE</th>\n",
       "      <td>50000</td>\n",
       "      <td>50000</td>\n",
       "      <td>350000</td>\n",
       "      <td>850000</td>\n",
       "      <td>800000</td>\n",
       "    </tr>\n",
       "  </tbody>\n",
       "</table>\n",
       "</div>"
      ],
      "text/plain": [
       "                         0             1            2          3             4\n",
       "Sl.NO.                   1             2            3          4             5\n",
       "PLAYER NAME    Abdulla, YA  Abdur Razzak  Agarkar, AB  Ashwin, R  Badrinath, S\n",
       "AGE                      2             2            2          1             2\n",
       "COUNTRY                 SA           BAN          IND        IND           IND\n",
       "TEAM                  KXIP           RCB          KKR        CSK           CSK\n",
       "PLAYING ROLE    Allrounder        Bowler       Bowler     Bowler       Batsman\n",
       "T-RUNS                   0           214          571        284            63\n",
       "T-WKTS                   0            18           58         31             0\n",
       "ODI-RUNS-S               0           657         1269        241            79\n",
       "ODI-SR-B               0.0         71.41        80.62      84.56         45.93\n",
       "ODI-WKTS                 0           185          288         51             0\n",
       "ODI-SR-BL              0.0          37.6         32.9       36.8           0.0\n",
       "CAPTAINCY EXP            0             0            0          0             0\n",
       "RUNS-S                   0             0          167         58          1317\n",
       "HS                       0             0           39         11            71\n",
       "AVE                    0.0           0.0        18.56        5.8         32.93\n",
       "SR-B                   0.0           0.0       121.01      76.32        120.71\n",
       "SIXERS                   0             0            5          0            28\n",
       "RUNS-C                 307            29         1059       1125             0\n",
       "WKTS                    15             0           29         49             0\n",
       "AVE-BL               20.47           0.0        36.52      22.96           0.0\n",
       "ECON                   8.9          14.5         8.81       6.23           0.0\n",
       "SR-BL                13.93           0.0         24.9      22.14           0.0\n",
       "AUCTION YEAR          2009          2008         2008       2011          2011\n",
       "BASE PRICE           50000         50000       200000     100000        100000\n",
       "SOLD PRICE           50000         50000       350000     850000        800000"
      ]
     },
     "execution_count": 63,
     "metadata": {},
     "output_type": "execute_result"
    }
   ],
   "source": [
    "ipl_auction_df.head(5).transpose()"
   ]
  },
  {
   "cell_type": "code",
   "execution_count": 64,
   "id": "1471e3cd-1225-40b1-b841-346a85fe3945",
   "metadata": {},
   "outputs": [
    {
     "data": {
      "text/plain": [
       "(130, 26)"
      ]
     },
     "execution_count": 64,
     "metadata": {},
     "output_type": "execute_result"
    }
   ],
   "source": [
    "# .shape; to know about dimention/size of the dataframe; it returns a tuple;\n",
    "# the fisrt value of the tuple is the number of rows and the second value is the nm. of columns;\n",
    "ipl_auction_df.shape\n",
    "# the result shows  130 records and 26 columns;"
   ]
  },
  {
   "cell_type": "code",
   "execution_count": 65,
   "id": "287c3c52-dd42-4227-b4f3-0659ee94b772",
   "metadata": {},
   "outputs": [
    {
     "name": "stdout",
     "output_type": "stream",
     "text": [
      "<class 'pandas.core.frame.DataFrame'>\n",
      "RangeIndex: 130 entries, 0 to 129\n",
      "Data columns (total 26 columns):\n",
      " #   Column         Non-Null Count  Dtype  \n",
      "---  ------         --------------  -----  \n",
      " 0   Sl.NO.         130 non-null    int64  \n",
      " 1   PLAYER NAME    130 non-null    object \n",
      " 2   AGE            130 non-null    int64  \n",
      " 3   COUNTRY        130 non-null    object \n",
      " 4   TEAM           130 non-null    object \n",
      " 5   PLAYING ROLE   130 non-null    object \n",
      " 6   T-RUNS         130 non-null    int64  \n",
      " 7   T-WKTS         130 non-null    int64  \n",
      " 8   ODI-RUNS-S     130 non-null    int64  \n",
      " 9   ODI-SR-B       130 non-null    float64\n",
      " 10  ODI-WKTS       130 non-null    int64  \n",
      " 11  ODI-SR-BL      130 non-null    float64\n",
      " 12  CAPTAINCY EXP  130 non-null    int64  \n",
      " 13  RUNS-S         130 non-null    int64  \n",
      " 14  HS             130 non-null    int64  \n",
      " 15  AVE            130 non-null    float64\n",
      " 16  SR-B           130 non-null    float64\n",
      " 17  SIXERS         130 non-null    int64  \n",
      " 18  RUNS-C         130 non-null    int64  \n",
      " 19  WKTS           130 non-null    int64  \n",
      " 20  AVE-BL         130 non-null    float64\n",
      " 21  ECON           130 non-null    float64\n",
      " 22  SR-BL          130 non-null    float64\n",
      " 23  AUCTION YEAR   130 non-null    int64  \n",
      " 24  BASE PRICE     130 non-null    int64  \n",
      " 25  SOLD PRICE     130 non-null    int64  \n",
      "dtypes: float64(7), int64(15), object(4)\n",
      "memory usage: 26.5+ KB\n"
     ]
    }
   ],
   "source": [
    "ipl_auction_df.info()"
   ]
  },
  {
   "cell_type": "markdown",
   "id": "49c14e73-444b-428c-822a-ca40a9141b74",
   "metadata": {},
   "source": [
    "Slicing and indexing of DF\n",
    "- df can be accessed/sliced by indexes or names;\n",
    "- the row and column indexes always start with value 0;"
   ]
  },
  {
   "cell_type": "code",
   "execution_count": 67,
   "id": "30adeb19-4e02-4fc1-a9e0-5b2480b02fc9",
   "metadata": {},
   "outputs": [
    {
     "data": {
      "text/html": [
       "<div>\n",
       "<style scoped>\n",
       "    .dataframe tbody tr th:only-of-type {\n",
       "        vertical-align: middle;\n",
       "    }\n",
       "\n",
       "    .dataframe tbody tr th {\n",
       "        vertical-align: top;\n",
       "    }\n",
       "\n",
       "    .dataframe thead th {\n",
       "        text-align: right;\n",
       "    }\n",
       "</style>\n",
       "<table border=\"1\" class=\"dataframe\">\n",
       "  <thead>\n",
       "    <tr style=\"text-align: right;\">\n",
       "      <th></th>\n",
       "      <th>Sl.NO.</th>\n",
       "      <th>PLAYER NAME</th>\n",
       "      <th>AGE</th>\n",
       "      <th>...</th>\n",
       "      <th>AUCTION YEAR</th>\n",
       "      <th>BASE PRICE</th>\n",
       "      <th>SOLD PRICE</th>\n",
       "    </tr>\n",
       "  </thead>\n",
       "  <tbody>\n",
       "    <tr>\n",
       "      <th>0</th>\n",
       "      <td>1</td>\n",
       "      <td>Abdulla, YA</td>\n",
       "      <td>2</td>\n",
       "      <td>...</td>\n",
       "      <td>2009</td>\n",
       "      <td>50000</td>\n",
       "      <td>50000</td>\n",
       "    </tr>\n",
       "    <tr>\n",
       "      <th>1</th>\n",
       "      <td>2</td>\n",
       "      <td>Abdur Razzak</td>\n",
       "      <td>2</td>\n",
       "      <td>...</td>\n",
       "      <td>2008</td>\n",
       "      <td>50000</td>\n",
       "      <td>50000</td>\n",
       "    </tr>\n",
       "    <tr>\n",
       "      <th>2</th>\n",
       "      <td>3</td>\n",
       "      <td>Agarkar, AB</td>\n",
       "      <td>2</td>\n",
       "      <td>...</td>\n",
       "      <td>2008</td>\n",
       "      <td>200000</td>\n",
       "      <td>350000</td>\n",
       "    </tr>\n",
       "    <tr>\n",
       "      <th>3</th>\n",
       "      <td>4</td>\n",
       "      <td>Ashwin, R</td>\n",
       "      <td>1</td>\n",
       "      <td>...</td>\n",
       "      <td>2011</td>\n",
       "      <td>100000</td>\n",
       "      <td>850000</td>\n",
       "    </tr>\n",
       "    <tr>\n",
       "      <th>4</th>\n",
       "      <td>5</td>\n",
       "      <td>Badrinath, S</td>\n",
       "      <td>2</td>\n",
       "      <td>...</td>\n",
       "      <td>2011</td>\n",
       "      <td>100000</td>\n",
       "      <td>800000</td>\n",
       "    </tr>\n",
       "  </tbody>\n",
       "</table>\n",
       "<p>5 rows × 26 columns</p>\n",
       "</div>"
      ],
      "text/plain": [
       "   Sl.NO.   PLAYER NAME  AGE  ... AUCTION YEAR BASE PRICE SOLD PRICE\n",
       "0       1   Abdulla, YA    2  ...         2009      50000      50000\n",
       "1       2  Abdur Razzak    2  ...         2008      50000      50000\n",
       "2       3   Agarkar, AB    2  ...         2008     200000     350000\n",
       "3       4     Ashwin, R    1  ...         2011     100000     850000\n",
       "4       5  Badrinath, S    2  ...         2011     100000     800000\n",
       "\n",
       "[5 rows x 26 columns]"
      ]
     },
     "execution_count": 67,
     "metadata": {},
     "output_type": "execute_result"
    }
   ],
   "source": [
    "# display first 5 rows of the dataframe;\n",
    "#the index range takes two values separated by a colon;\n",
    "#[0:5] - start row with a index of 0 and end with an index of 5(not including 5);\n",
    "#[0:5]==[:5]\n",
    "ipl_auction_df[0:5]\n"
   ]
  },
  {
   "cell_type": "code",
   "execution_count": 68,
   "id": "2a750c44-2dac-457d-acbb-0ada7eccb07f",
   "metadata": {},
   "outputs": [
    {
     "data": {
      "text/html": [
       "<div>\n",
       "<style scoped>\n",
       "    .dataframe tbody tr th:only-of-type {\n",
       "        vertical-align: middle;\n",
       "    }\n",
       "\n",
       "    .dataframe tbody tr th {\n",
       "        vertical-align: top;\n",
       "    }\n",
       "\n",
       "    .dataframe thead th {\n",
       "        text-align: right;\n",
       "    }\n",
       "</style>\n",
       "<table border=\"1\" class=\"dataframe\">\n",
       "  <thead>\n",
       "    <tr style=\"text-align: right;\">\n",
       "      <th></th>\n",
       "      <th>Sl.NO.</th>\n",
       "      <th>PLAYER NAME</th>\n",
       "      <th>AGE</th>\n",
       "      <th>...</th>\n",
       "      <th>AUCTION YEAR</th>\n",
       "      <th>BASE PRICE</th>\n",
       "      <th>SOLD PRICE</th>\n",
       "    </tr>\n",
       "  </thead>\n",
       "  <tbody>\n",
       "    <tr>\n",
       "      <th>125</th>\n",
       "      <td>126</td>\n",
       "      <td>Yadav, AS</td>\n",
       "      <td>2</td>\n",
       "      <td>...</td>\n",
       "      <td>2010</td>\n",
       "      <td>50000</td>\n",
       "      <td>750000</td>\n",
       "    </tr>\n",
       "    <tr>\n",
       "      <th>126</th>\n",
       "      <td>127</td>\n",
       "      <td>Younis Khan</td>\n",
       "      <td>2</td>\n",
       "      <td>...</td>\n",
       "      <td>2008</td>\n",
       "      <td>225000</td>\n",
       "      <td>225000</td>\n",
       "    </tr>\n",
       "    <tr>\n",
       "      <th>127</th>\n",
       "      <td>128</td>\n",
       "      <td>Yuvraj Singh</td>\n",
       "      <td>2</td>\n",
       "      <td>...</td>\n",
       "      <td>2011</td>\n",
       "      <td>400000</td>\n",
       "      <td>1800000</td>\n",
       "    </tr>\n",
       "    <tr>\n",
       "      <th>128</th>\n",
       "      <td>129</td>\n",
       "      <td>Zaheer Khan</td>\n",
       "      <td>2</td>\n",
       "      <td>...</td>\n",
       "      <td>2008</td>\n",
       "      <td>200000</td>\n",
       "      <td>450000</td>\n",
       "    </tr>\n",
       "    <tr>\n",
       "      <th>129</th>\n",
       "      <td>130</td>\n",
       "      <td>Zoysa, DNT</td>\n",
       "      <td>2</td>\n",
       "      <td>...</td>\n",
       "      <td>2008</td>\n",
       "      <td>100000</td>\n",
       "      <td>110000</td>\n",
       "    </tr>\n",
       "  </tbody>\n",
       "</table>\n",
       "<p>5 rows × 26 columns</p>\n",
       "</div>"
      ],
      "text/plain": [
       "     Sl.NO.   PLAYER NAME  AGE  ... AUCTION YEAR BASE PRICE SOLD PRICE\n",
       "125     126     Yadav, AS    2  ...         2010      50000     750000\n",
       "126     127   Younis Khan    2  ...         2008     225000     225000\n",
       "127     128  Yuvraj Singh    2  ...         2011     400000    1800000\n",
       "128     129   Zaheer Khan    2  ...         2008     200000     450000\n",
       "129     130    Zoysa, DNT    2  ...         2008     100000     110000\n",
       "\n",
       "[5 rows x 26 columns]"
      ]
     },
     "execution_count": 68,
     "metadata": {},
     "output_type": "execute_result"
    }
   ],
   "source": [
    "# NEGATIVE INDEXING; selecting records from the bottom of the DF;\n",
    "ipl_auction_df[-5:]\n"
   ]
  },
  {
   "cell_type": "code",
   "execution_count": 69,
   "id": "341a1047-4fbf-4413-b92b-be0f43a1b86a",
   "metadata": {},
   "outputs": [
    {
     "data": {
      "text/plain": [
       "0     Abdulla, YA\n",
       "1    Abdur Razzak\n",
       "2     Agarkar, AB\n",
       "3       Ashwin, R\n",
       "4    Badrinath, S\n",
       "Name: PLAYER NAME, dtype: object"
      ]
     },
     "execution_count": 69,
     "metadata": {},
     "output_type": "execute_result"
    }
   ],
   "source": [
    "# SPECIFIC COLUMNS - selected or sliced by column names,\n",
    "ipl_auction_df['PLAYER NAME'][0:5]"
   ]
  },
  {
   "cell_type": "code",
   "execution_count": 70,
   "id": "cc5b2499-cc71-42ce-b047-61d28628cb85",
   "metadata": {},
   "outputs": [
    {
     "data": {
      "text/html": [
       "<div>\n",
       "<style scoped>\n",
       "    .dataframe tbody tr th:only-of-type {\n",
       "        vertical-align: middle;\n",
       "    }\n",
       "\n",
       "    .dataframe tbody tr th {\n",
       "        vertical-align: top;\n",
       "    }\n",
       "\n",
       "    .dataframe thead th {\n",
       "        text-align: right;\n",
       "    }\n",
       "</style>\n",
       "<table border=\"1\" class=\"dataframe\">\n",
       "  <thead>\n",
       "    <tr style=\"text-align: right;\">\n",
       "      <th></th>\n",
       "      <th>PLAYER NAME</th>\n",
       "      <th>COUNTRY</th>\n",
       "    </tr>\n",
       "  </thead>\n",
       "  <tbody>\n",
       "    <tr>\n",
       "      <th>0</th>\n",
       "      <td>Abdulla, YA</td>\n",
       "      <td>SA</td>\n",
       "    </tr>\n",
       "    <tr>\n",
       "      <th>1</th>\n",
       "      <td>Abdur Razzak</td>\n",
       "      <td>BAN</td>\n",
       "    </tr>\n",
       "    <tr>\n",
       "      <th>2</th>\n",
       "      <td>Agarkar, AB</td>\n",
       "      <td>IND</td>\n",
       "    </tr>\n",
       "    <tr>\n",
       "      <th>3</th>\n",
       "      <td>Ashwin, R</td>\n",
       "      <td>IND</td>\n",
       "    </tr>\n",
       "    <tr>\n",
       "      <th>4</th>\n",
       "      <td>Badrinath, S</td>\n",
       "      <td>IND</td>\n",
       "    </tr>\n",
       "  </tbody>\n",
       "</table>\n",
       "</div>"
      ],
      "text/plain": [
       "    PLAYER NAME COUNTRY\n",
       "0   Abdulla, YA      SA\n",
       "1  Abdur Razzak     BAN\n",
       "2   Agarkar, AB     IND\n",
       "3     Ashwin, R     IND\n",
       "4  Badrinath, S     IND"
      ]
     },
     "execution_count": 70,
     "metadata": {},
     "output_type": "execute_result"
    }
   ],
   "source": [
    "# 2 column names - player name + country\n",
    "ipl_auction_df[['PLAYER NAME', 'COUNTRY']][0:5]"
   ]
  },
  {
   "cell_type": "code",
   "execution_count": 71,
   "id": "2e197137-84cc-4fa0-bb3d-d394cff1c8d8",
   "metadata": {},
   "outputs": [
    {
     "data": {
      "text/html": [
       "<div>\n",
       "<style scoped>\n",
       "    .dataframe tbody tr th:only-of-type {\n",
       "        vertical-align: middle;\n",
       "    }\n",
       "\n",
       "    .dataframe tbody tr th {\n",
       "        vertical-align: top;\n",
       "    }\n",
       "\n",
       "    .dataframe thead th {\n",
       "        text-align: right;\n",
       "    }\n",
       "</style>\n",
       "<table border=\"1\" class=\"dataframe\">\n",
       "  <thead>\n",
       "    <tr style=\"text-align: right;\">\n",
       "      <th></th>\n",
       "      <th>PLAYER NAME</th>\n",
       "      <th>AGE</th>\n",
       "      <th>COUNTRY</th>\n",
       "    </tr>\n",
       "  </thead>\n",
       "  <tbody>\n",
       "    <tr>\n",
       "      <th>4</th>\n",
       "      <td>Badrinath, S</td>\n",
       "      <td>2</td>\n",
       "      <td>IND</td>\n",
       "    </tr>\n",
       "    <tr>\n",
       "      <th>5</th>\n",
       "      <td>Bailey, GJ</td>\n",
       "      <td>2</td>\n",
       "      <td>AUS</td>\n",
       "    </tr>\n",
       "    <tr>\n",
       "      <th>6</th>\n",
       "      <td>Balaji, L</td>\n",
       "      <td>2</td>\n",
       "      <td>IND</td>\n",
       "    </tr>\n",
       "    <tr>\n",
       "      <th>7</th>\n",
       "      <td>Bollinger, DE</td>\n",
       "      <td>2</td>\n",
       "      <td>AUS</td>\n",
       "    </tr>\n",
       "    <tr>\n",
       "      <th>8</th>\n",
       "      <td>Botha, J</td>\n",
       "      <td>2</td>\n",
       "      <td>SA</td>\n",
       "    </tr>\n",
       "  </tbody>\n",
       "</table>\n",
       "</div>"
      ],
      "text/plain": [
       "     PLAYER NAME  AGE COUNTRY\n",
       "4   Badrinath, S    2     IND\n",
       "5     Bailey, GJ    2     AUS\n",
       "6      Balaji, L    2     IND\n",
       "7  Bollinger, DE    2     AUS\n",
       "8       Botha, J    2      SA"
      ]
     },
     "execution_count": 71,
     "metadata": {},
     "output_type": "execute_result"
    }
   ],
   "source": [
    "# specing rowns and columns can also be selected using row and column indexes;\n",
    "# first 5 records starting from row index 4 [4:9]\n",
    "# columns ranging from column index 1(second column) to column index 4 [1:4]\n",
    "# [4:9,1:4] - takes the row index ranges first and columns ranges as second parameter;\n",
    "\n",
    "ipl_auction_df.iloc[4:9,1:4]"
   ]
  },
  {
   "cell_type": "markdown",
   "id": "4cc851be-0ce2-4eb4-bad6-98d8973e16e6",
   "metadata": {},
   "source": [
    "VALUE COUNT AND CROSS TABULATIONS;"
   ]
  },
  {
   "cell_type": "code",
   "execution_count": 73,
   "id": "2656439d-93b1-4c14-adcf-db6913898fbb",
   "metadata": {},
   "outputs": [
    {
     "data": {
      "text/plain": [
       "COUNTRY\n",
       "IND    53\n",
       "AUS    22\n",
       "SA     16\n",
       "SL     12\n",
       "PAK     9\n",
       "NZ      7\n",
       "WI      6\n",
       "ENG     3\n",
       "BAN     1\n",
       "ZIM     1\n",
       "Name: count, dtype: int64"
      ]
     },
     "execution_count": 73,
     "metadata": {},
     "output_type": "execute_result"
    }
   ],
   "source": [
    "#value_counts(); provides the occurences of each unique value in a column;\n",
    "# it should primarily be used for categorical variables;\n",
    "ipl_auction_df.COUNTRY.value_counts()"
   ]
  },
  {
   "cell_type": "code",
   "execution_count": 74,
   "id": "889927fc-0527-413f-8d02-87eac8e35a78",
   "metadata": {},
   "outputs": [
    {
     "data": {
      "text/plain": [
       "COUNTRY\n",
       "IND    40.769231\n",
       "AUS    16.923077\n",
       "SA     12.307692\n",
       "SL      9.230769\n",
       "PAK     6.923077\n",
       "NZ      5.384615\n",
       "WI      4.615385\n",
       "ENG     2.307692\n",
       "BAN     0.769231\n",
       "ZIM     0.769231\n",
       "Name: proportion, dtype: float64"
      ]
     },
     "execution_count": 74,
     "metadata": {},
     "output_type": "execute_result"
    }
   ],
   "source": [
    "# using parameter normalize = true to the value.count() - % of occurrences of each unique value;\n",
    "ipl_auction_df.COUNTRY.value_counts(normalize=True)*100"
   ]
  },
  {
   "cell_type": "markdown",
   "id": "8ed32b5f-4a22-4918-9857-5f41a75b8979",
   "metadata": {},
   "source": [
    "CROSS TABULATION FEATURE -"
   ]
  },
  {
   "cell_type": "code",
   "execution_count": 76,
   "id": "02e35ef8-91a3-4975-8c9e-f3b67914b643",
   "metadata": {},
   "outputs": [
    {
     "data": {
      "text/html": [
       "<div>\n",
       "<style scoped>\n",
       "    .dataframe tbody tr th:only-of-type {\n",
       "        vertical-align: middle;\n",
       "    }\n",
       "\n",
       "    .dataframe tbody tr th {\n",
       "        vertical-align: top;\n",
       "    }\n",
       "\n",
       "    .dataframe thead th {\n",
       "        text-align: right;\n",
       "    }\n",
       "</style>\n",
       "<table border=\"1\" class=\"dataframe\">\n",
       "  <thead>\n",
       "    <tr style=\"text-align: right;\">\n",
       "      <th>PLAYING ROLE</th>\n",
       "      <th>Allrounder</th>\n",
       "      <th>Batsman</th>\n",
       "      <th>Bowler</th>\n",
       "      <th>W. Keeper</th>\n",
       "    </tr>\n",
       "    <tr>\n",
       "      <th>AGE</th>\n",
       "      <th></th>\n",
       "      <th></th>\n",
       "      <th></th>\n",
       "      <th></th>\n",
       "    </tr>\n",
       "  </thead>\n",
       "  <tbody>\n",
       "    <tr>\n",
       "      <th>1</th>\n",
       "      <td>4</td>\n",
       "      <td>5</td>\n",
       "      <td>7</td>\n",
       "      <td>0</td>\n",
       "    </tr>\n",
       "    <tr>\n",
       "      <th>2</th>\n",
       "      <td>25</td>\n",
       "      <td>21</td>\n",
       "      <td>29</td>\n",
       "      <td>11</td>\n",
       "    </tr>\n",
       "    <tr>\n",
       "      <th>3</th>\n",
       "      <td>6</td>\n",
       "      <td>13</td>\n",
       "      <td>8</td>\n",
       "      <td>1</td>\n",
       "    </tr>\n",
       "  </tbody>\n",
       "</table>\n",
       "</div>"
      ],
      "text/plain": [
       "PLAYING ROLE  Allrounder  Batsman  Bowler  W. Keeper\n",
       "AGE                                                 \n",
       "1                      4        5       7          0\n",
       "2                     25       21      29         11\n",
       "3                      6       13       8          1"
      ]
     },
     "execution_count": 76,
     "metadata": {},
     "output_type": "execute_result"
    }
   ],
   "source": [
    "# help to find occurence for the combination of values for 2 columns;\n",
    "# crosstab b/w PLAYING ROLE & AGE will give number of player in each category;\n",
    "# Cat.1 - <25, cat.2 - 25 to 35, cat.3 - 35+\n",
    "pd.crosstab(ipl_auction_df['AGE'],ipl_auction_df['PLAYING ROLE'])"
   ]
  },
  {
   "cell_type": "markdown",
   "id": "66449149-df61-4435-8c4b-f46e69bf06a6",
   "metadata": {},
   "source": [
    "SORTING DF by COLUMN VALUES;"
   ]
  },
  {
   "cell_type": "code",
   "execution_count": 78,
   "id": "d384e34f-2afd-488b-a147-e317df737d68",
   "metadata": {},
   "outputs": [
    {
     "data": {
      "text/html": [
       "<div>\n",
       "<style scoped>\n",
       "    .dataframe tbody tr th:only-of-type {\n",
       "        vertical-align: middle;\n",
       "    }\n",
       "\n",
       "    .dataframe tbody tr th {\n",
       "        vertical-align: top;\n",
       "    }\n",
       "\n",
       "    .dataframe thead th {\n",
       "        text-align: right;\n",
       "    }\n",
       "</style>\n",
       "<table border=\"1\" class=\"dataframe\">\n",
       "  <thead>\n",
       "    <tr style=\"text-align: right;\">\n",
       "      <th></th>\n",
       "      <th>PLAYER NAME</th>\n",
       "      <th>SOLD PRICE</th>\n",
       "    </tr>\n",
       "  </thead>\n",
       "  <tbody>\n",
       "    <tr>\n",
       "      <th>73</th>\n",
       "      <td>Noffke, AA</td>\n",
       "      <td>20000</td>\n",
       "    </tr>\n",
       "    <tr>\n",
       "      <th>46</th>\n",
       "      <td>Kamran Khan</td>\n",
       "      <td>24000</td>\n",
       "    </tr>\n",
       "    <tr>\n",
       "      <th>0</th>\n",
       "      <td>Abdulla, YA</td>\n",
       "      <td>50000</td>\n",
       "    </tr>\n",
       "    <tr>\n",
       "      <th>1</th>\n",
       "      <td>Abdur Razzak</td>\n",
       "      <td>50000</td>\n",
       "    </tr>\n",
       "    <tr>\n",
       "      <th>118</th>\n",
       "      <td>Van der Merwe</td>\n",
       "      <td>50000</td>\n",
       "    </tr>\n",
       "  </tbody>\n",
       "</table>\n",
       "</div>"
      ],
      "text/plain": [
       "       PLAYER NAME  SOLD PRICE\n",
       "73      Noffke, AA       20000\n",
       "46     Kamran Khan       24000\n",
       "0      Abdulla, YA       50000\n",
       "1     Abdur Razzak       50000\n",
       "118  Van der Merwe       50000"
      ]
     },
     "execution_count": 78,
     "metadata": {},
     "output_type": "execute_result"
    }
   ],
   "source": [
    "#sort_values(); takes the column name based on which the record needs to be sorted;\n",
    "# by default, sorting is done in ascending order;\n",
    "# to sort df record in desc -- pass FALSE to ASc order;\n",
    "ipl_auction_df [['PLAYER NAME','SOLD PRICE']].sort_values('SOLD PRICE')[0:5]"
   ]
  },
  {
   "cell_type": "code",
   "execution_count": 79,
   "id": "6f5254ec-4a7e-4b02-a02c-9cadab8eb7a9",
   "metadata": {},
   "outputs": [
    {
     "data": {
      "text/html": [
       "<div>\n",
       "<style scoped>\n",
       "    .dataframe tbody tr th:only-of-type {\n",
       "        vertical-align: middle;\n",
       "    }\n",
       "\n",
       "    .dataframe tbody tr th {\n",
       "        vertical-align: top;\n",
       "    }\n",
       "\n",
       "    .dataframe thead th {\n",
       "        text-align: right;\n",
       "    }\n",
       "</style>\n",
       "<table border=\"1\" class=\"dataframe\">\n",
       "  <thead>\n",
       "    <tr style=\"text-align: right;\">\n",
       "      <th></th>\n",
       "      <th>PLAYER NAME</th>\n",
       "      <th>SOLD PRICE</th>\n",
       "    </tr>\n",
       "  </thead>\n",
       "  <tbody>\n",
       "    <tr>\n",
       "      <th>93</th>\n",
       "      <td>Sehwag, V</td>\n",
       "      <td>1800000</td>\n",
       "    </tr>\n",
       "    <tr>\n",
       "      <th>127</th>\n",
       "      <td>Yuvraj Singh</td>\n",
       "      <td>1800000</td>\n",
       "    </tr>\n",
       "    <tr>\n",
       "      <th>50</th>\n",
       "      <td>Kohli, V</td>\n",
       "      <td>1800000</td>\n",
       "    </tr>\n",
       "    <tr>\n",
       "      <th>111</th>\n",
       "      <td>Tendulkar, SR</td>\n",
       "      <td>1800000</td>\n",
       "    </tr>\n",
       "    <tr>\n",
       "      <th>113</th>\n",
       "      <td>Tiwary, SS</td>\n",
       "      <td>1600000</td>\n",
       "    </tr>\n",
       "  </tbody>\n",
       "</table>\n",
       "</div>"
      ],
      "text/plain": [
       "       PLAYER NAME  SOLD PRICE\n",
       "93       Sehwag, V     1800000\n",
       "127   Yuvraj Singh     1800000\n",
       "50        Kohli, V     1800000\n",
       "111  Tendulkar, SR     1800000\n",
       "113     Tiwary, SS     1600000"
      ]
     },
     "execution_count": 79,
     "metadata": {},
     "output_type": "execute_result"
    }
   ],
   "source": [
    "ipl_auction_df[['PLAYER NAME','SOLD PRICE']].sort_values('SOLD PRICE',ascending = False)[0:5]"
   ]
  },
  {
   "cell_type": "markdown",
   "id": "3ed919da-f959-4c5d-82ef-5b33f3c56897",
   "metadata": {},
   "source": [
    "CREATING NEW COLUMNS"
   ]
  },
  {
   "cell_type": "code",
   "execution_count": 81,
   "id": "569b3d93-3b40-4bc0-91b0-e194421c3d82",
   "metadata": {},
   "outputs": [],
   "source": [
    "#new column to know the diff. b/w sold price and base price; calles as 'premium'\n",
    "# it will create a new column called premium, by taking diff. sp and bp;\n",
    "ipl_auction_df['premium'] = ipl_auction_df['SOLD PRICE']-ipl_auction_df['BASE PRICE']"
   ]
  },
  {
   "cell_type": "code",
   "execution_count": 82,
   "id": "dd6fae1c-b37e-4521-acbc-0fa68d8fa6b7",
   "metadata": {},
   "outputs": [
    {
     "data": {
      "text/html": [
       "<div>\n",
       "<style scoped>\n",
       "    .dataframe tbody tr th:only-of-type {\n",
       "        vertical-align: middle;\n",
       "    }\n",
       "\n",
       "    .dataframe tbody tr th {\n",
       "        vertical-align: top;\n",
       "    }\n",
       "\n",
       "    .dataframe thead th {\n",
       "        text-align: right;\n",
       "    }\n",
       "</style>\n",
       "<table border=\"1\" class=\"dataframe\">\n",
       "  <thead>\n",
       "    <tr style=\"text-align: right;\">\n",
       "      <th></th>\n",
       "      <th>PLAYER NAME</th>\n",
       "      <th>BASE PRICE</th>\n",
       "      <th>SOLD PRICE</th>\n",
       "      <th>premium</th>\n",
       "    </tr>\n",
       "  </thead>\n",
       "  <tbody>\n",
       "    <tr>\n",
       "      <th>0</th>\n",
       "      <td>Abdulla, YA</td>\n",
       "      <td>50000</td>\n",
       "      <td>50000</td>\n",
       "      <td>0</td>\n",
       "    </tr>\n",
       "    <tr>\n",
       "      <th>1</th>\n",
       "      <td>Abdur Razzak</td>\n",
       "      <td>50000</td>\n",
       "      <td>50000</td>\n",
       "      <td>0</td>\n",
       "    </tr>\n",
       "    <tr>\n",
       "      <th>2</th>\n",
       "      <td>Agarkar, AB</td>\n",
       "      <td>200000</td>\n",
       "      <td>350000</td>\n",
       "      <td>150000</td>\n",
       "    </tr>\n",
       "    <tr>\n",
       "      <th>3</th>\n",
       "      <td>Ashwin, R</td>\n",
       "      <td>100000</td>\n",
       "      <td>850000</td>\n",
       "      <td>750000</td>\n",
       "    </tr>\n",
       "    <tr>\n",
       "      <th>4</th>\n",
       "      <td>Badrinath, S</td>\n",
       "      <td>100000</td>\n",
       "      <td>800000</td>\n",
       "      <td>700000</td>\n",
       "    </tr>\n",
       "  </tbody>\n",
       "</table>\n",
       "</div>"
      ],
      "text/plain": [
       "    PLAYER NAME  BASE PRICE  SOLD PRICE  premium\n",
       "0   Abdulla, YA       50000       50000        0\n",
       "1  Abdur Razzak       50000       50000        0\n",
       "2   Agarkar, AB      200000      350000   150000\n",
       "3     Ashwin, R      100000      850000   750000\n",
       "4  Badrinath, S      100000      800000   700000"
      ]
     },
     "execution_count": 82,
     "metadata": {},
     "output_type": "execute_result"
    }
   ],
   "source": [
    "ipl_auction_df[['PLAYER NAME','BASE PRICE','SOLD PRICE','premium']][0:5]"
   ]
  },
  {
   "cell_type": "code",
   "execution_count": 83,
   "id": "3822d49d-f083-412e-a133-78d85522109a",
   "metadata": {},
   "outputs": [
    {
     "data": {
      "text/html": [
       "<div>\n",
       "<style scoped>\n",
       "    .dataframe tbody tr th:only-of-type {\n",
       "        vertical-align: middle;\n",
       "    }\n",
       "\n",
       "    .dataframe tbody tr th {\n",
       "        vertical-align: top;\n",
       "    }\n",
       "\n",
       "    .dataframe thead th {\n",
       "        text-align: right;\n",
       "    }\n",
       "</style>\n",
       "<table border=\"1\" class=\"dataframe\">\n",
       "  <thead>\n",
       "    <tr style=\"text-align: right;\">\n",
       "      <th></th>\n",
       "      <th>PLAYER NAME</th>\n",
       "      <th>BASE PRICE</th>\n",
       "      <th>SOLD PRICE</th>\n",
       "      <th>premium</th>\n",
       "    </tr>\n",
       "  </thead>\n",
       "  <tbody>\n",
       "    <tr>\n",
       "      <th>50</th>\n",
       "      <td>Kohli, V</td>\n",
       "      <td>150000</td>\n",
       "      <td>1800000</td>\n",
       "      <td>1650000</td>\n",
       "    </tr>\n",
       "    <tr>\n",
       "      <th>113</th>\n",
       "      <td>Tiwary, SS</td>\n",
       "      <td>100000</td>\n",
       "      <td>1600000</td>\n",
       "      <td>1500000</td>\n",
       "    </tr>\n",
       "    <tr>\n",
       "      <th>127</th>\n",
       "      <td>Yuvraj Singh</td>\n",
       "      <td>400000</td>\n",
       "      <td>1800000</td>\n",
       "      <td>1400000</td>\n",
       "    </tr>\n",
       "    <tr>\n",
       "      <th>111</th>\n",
       "      <td>Tendulkar, SR</td>\n",
       "      <td>400000</td>\n",
       "      <td>1800000</td>\n",
       "      <td>1400000</td>\n",
       "    </tr>\n",
       "    <tr>\n",
       "      <th>93</th>\n",
       "      <td>Sehwag, V</td>\n",
       "      <td>400000</td>\n",
       "      <td>1800000</td>\n",
       "      <td>1400000</td>\n",
       "    </tr>\n",
       "  </tbody>\n",
       "</table>\n",
       "</div>"
      ],
      "text/plain": [
       "       PLAYER NAME  BASE PRICE  SOLD PRICE  premium\n",
       "50        Kohli, V      150000     1800000  1650000\n",
       "113     Tiwary, SS      100000     1600000  1500000\n",
       "127   Yuvraj Singh      400000     1800000  1400000\n",
       "111  Tendulkar, SR      400000     1800000  1400000\n",
       "93       Sehwag, V      400000     1800000  1400000"
      ]
     },
     "execution_count": 83,
     "metadata": {},
     "output_type": "execute_result"
    }
   ],
   "source": [
    " #we can also sort premium wrt to order\n",
    "ipl_auction_df[['PLAYER NAME','BASE PRICE','SOLD PRICE','premium']].sort_values('premium',\n",
    "                                                                                ascending = False)[0:5]"
   ]
  },
  {
   "cell_type": "markdown",
   "id": "8fa4da4b-b1d2-4a60-aa38-6b646b3b3826",
   "metadata": {},
   "source": [
    "GROUPING AND AGGREGATING"
   ]
  },
  {
   "cell_type": "code",
   "execution_count": 85,
   "id": "420a8221-4483-4b0a-8dde-4f1562f119ff",
   "metadata": {},
   "outputs": [
    {
     "data": {
      "text/plain": [
       "AGE\n",
       "1    720250.000000\n",
       "2    484534.883721\n",
       "3    520178.571429\n",
       "Name: SOLD PRICE, dtype: float64"
      ]
     },
     "execution_count": 85,
     "metadata": {},
     "output_type": "execute_result"
    }
   ],
   "source": [
    "#group records based on column values;\n",
    "#then applying aggregating op. - mean,maximum,min;\n",
    "#Note: 'AGE' is in parentheses because it is passed as an argument to the groupby() function. \n",
    "#You can pass a single column as a string ('AGE') or multiple columns as a list (['AGE', 'COUNTRY']).\n",
    "ipl_auction_df.groupby('AGE')['SOLD PRICE'].mean()"
   ]
  },
  {
   "cell_type": "code",
   "execution_count": 86,
   "id": "7d1c94c6-075b-4c16-87d4-f00a3bcf7af3",
   "metadata": {},
   "outputs": [
    {
     "name": "stdout",
     "output_type": "stream",
     "text": [
      "   AGE     SOLD PRICE\n",
      "0    1  720250.000000\n",
      "1    2  484534.883721\n",
      "2    3  520178.571429\n"
     ]
    }
   ],
   "source": [
    "# we can call reset_index() as shown below on the returned data structure;\n",
    "soldprice_by_age = ipl_auction_df.groupby('AGE')['SOLD PRICE'].mean().reset_index()\n",
    "print(soldprice_by_age)"
   ]
  },
  {
   "cell_type": "code",
   "execution_count": 87,
   "id": "4eb8812e-886c-458f-af66-dc0f963a570a",
   "metadata": {},
   "outputs": [
    {
     "name": "stdout",
     "output_type": "stream",
     "text": [
      "    AGE PLAYING ROLE    SOLD PRICE\n",
      "0     1   Allrounder  5.875000e+05\n",
      "1     1      Batsman  1.110000e+06\n",
      "2     1       Bowler  5.177143e+05\n",
      "3     2   Allrounder  4.494000e+05\n",
      "4     2      Batsman  6.547619e+05\n",
      "5     2       Bowler  3.979310e+05\n",
      "6     2    W. Keeper  4.677273e+05\n",
      "7     3   Allrounder  7.666667e+05\n",
      "8     3      Batsman  4.576923e+05\n",
      "9     3       Bowler  4.143750e+05\n",
      "10    3    W. Keeper  7.000000e+05\n"
     ]
    }
   ],
   "source": [
    "# group by using multiple columns;\n",
    "soldprice_by_age_role = ipl_auction_df.groupby(['AGE','PLAYING ROLE'])['SOLD PRICE'].mean().reset_index()\n",
    "print(soldprice_by_age_role)"
   ]
  },
  {
   "cell_type": "markdown",
   "id": "8163cdec-90ce-4261-b222-95ceb4955ef8",
   "metadata": {},
   "source": [
    "JOINING DATA FRAMES"
   ]
  },
  {
   "cell_type": "code",
   "execution_count": 89,
   "id": "104ee0f0-3e74-4742-a195-34fcfaf5e4a0",
   "metadata": {},
   "outputs": [
    {
     "name": "stdout",
     "output_type": "stream",
     "text": [
      "    AGE PLAYING ROLE  SOLD PRICE_x   SOLD PRICE_y\n",
      "0     1   Allrounder  5.875000e+05  720250.000000\n",
      "1     1      Batsman  1.110000e+06  720250.000000\n",
      "2     1       Bowler  5.177143e+05  720250.000000\n",
      "3     2   Allrounder  4.494000e+05  484534.883721\n",
      "4     2      Batsman  6.547619e+05  484534.883721\n",
      "5     2       Bowler  3.979310e+05  484534.883721\n",
      "6     2    W. Keeper  4.677273e+05  484534.883721\n",
      "7     3   Allrounder  7.666667e+05  520178.571429\n",
      "8     3      Batsman  4.576923e+05  520178.571429\n",
      "9     3       Bowler  4.143750e+05  520178.571429\n",
      "10    3    W. Keeper  7.000000e+05  520178.571429\n"
     ]
    }
   ],
   "source": [
    "#to combine from multiple df into one df; both df's need to have a common column;\n",
    "#e.g. - to compare avg. SOLD PRICE for diff. age categories with diff age and PLAYING ROLE \n",
    "# we need to combine the dfs - soldprice_by_age and soldprice_by_age_role(common column is AGE)\n",
    "soldprice_comparision = soldprice_by_age_role.merge(soldprice_by_age,on = 'AGE',how = 'outer')\n",
    "print(soldprice_comparision)"
   ]
  },
  {
   "cell_type": "code",
   "execution_count": 90,
   "id": "ef8c56ad-8054-46a1-830f-d44efcde333d",
   "metadata": {},
   "outputs": [],
   "source": [
    "# because the column name SOLD PRICE is same in both the df, it automatically renames them as\n",
    "# SOLD PRICE_x(it comes from left table soldprice_by_age_role)\n",
    "# SOLD PRICE_y(it comes from right table soldprice_by_age)"
   ]
  },
  {
   "cell_type": "markdown",
   "id": "76788556-159f-4ee2-9c22-22aecacfd560",
   "metadata": {},
   "source": [
    "RE-NAMING COLUMNS"
   ]
  },
  {
   "cell_type": "code",
   "execution_count": 92,
   "id": "4f378a66-6d8e-4528-8642-a2b4a68cf9ea",
   "metadata": {},
   "outputs": [],
   "source": [
    "#renaming the existing column of a df; using rename() method;\n",
    "soldprice_comparision.rename(columns = {'SOLD PRICE_x':'SOLD_PRICE_AGE_ROLE','SOLD PRICE_y':'SOLD_PRICE_AGE'},\n",
    "                             inplace = True)"
   ]
  },
  {
   "cell_type": "code",
   "execution_count": 93,
   "id": "b161757c-e48b-4b84-9ce0-abf3e1a3510c",
   "metadata": {},
   "outputs": [
    {
     "data": {
      "text/html": [
       "<div>\n",
       "<style scoped>\n",
       "    .dataframe tbody tr th:only-of-type {\n",
       "        vertical-align: middle;\n",
       "    }\n",
       "\n",
       "    .dataframe tbody tr th {\n",
       "        vertical-align: top;\n",
       "    }\n",
       "\n",
       "    .dataframe thead th {\n",
       "        text-align: right;\n",
       "    }\n",
       "</style>\n",
       "<table border=\"1\" class=\"dataframe\">\n",
       "  <thead>\n",
       "    <tr style=\"text-align: right;\">\n",
       "      <th></th>\n",
       "      <th>AGE</th>\n",
       "      <th>PLAYING ROLE</th>\n",
       "      <th>SOLD_PRICE_AGE_ROLE</th>\n",
       "      <th>SOLD_PRICE_AGE</th>\n",
       "    </tr>\n",
       "  </thead>\n",
       "  <tbody>\n",
       "    <tr>\n",
       "      <th>0</th>\n",
       "      <td>1</td>\n",
       "      <td>Allrounder</td>\n",
       "      <td>5.875000e+05</td>\n",
       "      <td>720250.000000</td>\n",
       "    </tr>\n",
       "    <tr>\n",
       "      <th>1</th>\n",
       "      <td>1</td>\n",
       "      <td>Batsman</td>\n",
       "      <td>1.110000e+06</td>\n",
       "      <td>720250.000000</td>\n",
       "    </tr>\n",
       "    <tr>\n",
       "      <th>2</th>\n",
       "      <td>1</td>\n",
       "      <td>Bowler</td>\n",
       "      <td>5.177143e+05</td>\n",
       "      <td>720250.000000</td>\n",
       "    </tr>\n",
       "    <tr>\n",
       "      <th>3</th>\n",
       "      <td>2</td>\n",
       "      <td>Allrounder</td>\n",
       "      <td>4.494000e+05</td>\n",
       "      <td>484534.883721</td>\n",
       "    </tr>\n",
       "    <tr>\n",
       "      <th>4</th>\n",
       "      <td>2</td>\n",
       "      <td>Batsman</td>\n",
       "      <td>6.547619e+05</td>\n",
       "      <td>484534.883721</td>\n",
       "    </tr>\n",
       "  </tbody>\n",
       "</table>\n",
       "</div>"
      ],
      "text/plain": [
       "   AGE PLAYING ROLE  SOLD_PRICE_AGE_ROLE  SOLD_PRICE_AGE\n",
       "0    1   Allrounder         5.875000e+05   720250.000000\n",
       "1    1      Batsman         1.110000e+06   720250.000000\n",
       "2    1       Bowler         5.177143e+05   720250.000000\n",
       "3    2   Allrounder         4.494000e+05   484534.883721\n",
       "4    2      Batsman         6.547619e+05   484534.883721"
      ]
     },
     "execution_count": 93,
     "metadata": {},
     "output_type": "execute_result"
    }
   ],
   "source": [
    "soldprice_comparision.head(5)"
   ]
  },
  {
   "cell_type": "markdown",
   "id": "07e532a9-34db-4ae2-a3c1-29fbabfbcb02",
   "metadata": {},
   "source": [
    "APPLYING OPERATIONS TO MULTIPLE COLUMNS - "
   ]
  },
  {
   "cell_type": "code",
   "execution_count": 95,
   "id": "e292e0d9-5030-4a3d-b9ca-bf5b41f7c03e",
   "metadata": {},
   "outputs": [],
   "source": [
    "soldprice_comparision['change'] = soldprice_comparision.apply(lambda\n",
    "                                  rec:(rec.SOLD_PRICE_AGE_ROLE -\n",
    "                                       rec.SOLD_PRICE_AGE)/rec.SOLD_PRICE_AGE, axis =1)\n",
    "# axis=0 as operating \"down\" the rows (vertically, column-wise) and \n",
    "# axis=1 as operating \"across\" the columns (horizontally, row-wise)."
   ]
  },
  {
   "cell_type": "code",
   "execution_count": 96,
   "id": "943fb926-c41c-44b8-a7d8-905d7804e73a",
   "metadata": {},
   "outputs": [
    {
     "data": {
      "text/html": [
       "<div>\n",
       "<style scoped>\n",
       "    .dataframe tbody tr th:only-of-type {\n",
       "        vertical-align: middle;\n",
       "    }\n",
       "\n",
       "    .dataframe tbody tr th {\n",
       "        vertical-align: top;\n",
       "    }\n",
       "\n",
       "    .dataframe thead th {\n",
       "        text-align: right;\n",
       "    }\n",
       "</style>\n",
       "<table border=\"1\" class=\"dataframe\">\n",
       "  <thead>\n",
       "    <tr style=\"text-align: right;\">\n",
       "      <th></th>\n",
       "      <th>AGE</th>\n",
       "      <th>PLAYING ROLE</th>\n",
       "      <th>SOLD_PRICE_AGE_ROLE</th>\n",
       "      <th>SOLD_PRICE_AGE</th>\n",
       "      <th>change</th>\n",
       "    </tr>\n",
       "  </thead>\n",
       "  <tbody>\n",
       "    <tr>\n",
       "      <th>0</th>\n",
       "      <td>1</td>\n",
       "      <td>Allrounder</td>\n",
       "      <td>5.875000e+05</td>\n",
       "      <td>720250.000000</td>\n",
       "      <td>-0.184311</td>\n",
       "    </tr>\n",
       "    <tr>\n",
       "      <th>1</th>\n",
       "      <td>1</td>\n",
       "      <td>Batsman</td>\n",
       "      <td>1.110000e+06</td>\n",
       "      <td>720250.000000</td>\n",
       "      <td>0.541132</td>\n",
       "    </tr>\n",
       "    <tr>\n",
       "      <th>2</th>\n",
       "      <td>1</td>\n",
       "      <td>Bowler</td>\n",
       "      <td>5.177143e+05</td>\n",
       "      <td>720250.000000</td>\n",
       "      <td>-0.281202</td>\n",
       "    </tr>\n",
       "    <tr>\n",
       "      <th>3</th>\n",
       "      <td>2</td>\n",
       "      <td>Allrounder</td>\n",
       "      <td>4.494000e+05</td>\n",
       "      <td>484534.883721</td>\n",
       "      <td>-0.072513</td>\n",
       "    </tr>\n",
       "    <tr>\n",
       "      <th>4</th>\n",
       "      <td>2</td>\n",
       "      <td>Batsman</td>\n",
       "      <td>6.547619e+05</td>\n",
       "      <td>484534.883721</td>\n",
       "      <td>0.351320</td>\n",
       "    </tr>\n",
       "    <tr>\n",
       "      <th>5</th>\n",
       "      <td>2</td>\n",
       "      <td>Bowler</td>\n",
       "      <td>3.979310e+05</td>\n",
       "      <td>484534.883721</td>\n",
       "      <td>-0.178736</td>\n",
       "    </tr>\n",
       "    <tr>\n",
       "      <th>6</th>\n",
       "      <td>2</td>\n",
       "      <td>W. Keeper</td>\n",
       "      <td>4.677273e+05</td>\n",
       "      <td>484534.883721</td>\n",
       "      <td>-0.034688</td>\n",
       "    </tr>\n",
       "    <tr>\n",
       "      <th>7</th>\n",
       "      <td>3</td>\n",
       "      <td>Allrounder</td>\n",
       "      <td>7.666667e+05</td>\n",
       "      <td>520178.571429</td>\n",
       "      <td>0.473853</td>\n",
       "    </tr>\n",
       "    <tr>\n",
       "      <th>8</th>\n",
       "      <td>3</td>\n",
       "      <td>Batsman</td>\n",
       "      <td>4.576923e+05</td>\n",
       "      <td>520178.571429</td>\n",
       "      <td>-0.120125</td>\n",
       "    </tr>\n",
       "    <tr>\n",
       "      <th>9</th>\n",
       "      <td>3</td>\n",
       "      <td>Bowler</td>\n",
       "      <td>4.143750e+05</td>\n",
       "      <td>520178.571429</td>\n",
       "      <td>-0.203399</td>\n",
       "    </tr>\n",
       "    <tr>\n",
       "      <th>10</th>\n",
       "      <td>3</td>\n",
       "      <td>W. Keeper</td>\n",
       "      <td>7.000000e+05</td>\n",
       "      <td>520178.571429</td>\n",
       "      <td>0.345692</td>\n",
       "    </tr>\n",
       "  </tbody>\n",
       "</table>\n",
       "</div>"
      ],
      "text/plain": [
       "    AGE PLAYING ROLE  SOLD_PRICE_AGE_ROLE  SOLD_PRICE_AGE    change\n",
       "0     1   Allrounder         5.875000e+05   720250.000000 -0.184311\n",
       "1     1      Batsman         1.110000e+06   720250.000000  0.541132\n",
       "2     1       Bowler         5.177143e+05   720250.000000 -0.281202\n",
       "3     2   Allrounder         4.494000e+05   484534.883721 -0.072513\n",
       "4     2      Batsman         6.547619e+05   484534.883721  0.351320\n",
       "5     2       Bowler         3.979310e+05   484534.883721 -0.178736\n",
       "6     2    W. Keeper         4.677273e+05   484534.883721 -0.034688\n",
       "7     3   Allrounder         7.666667e+05   520178.571429  0.473853\n",
       "8     3      Batsman         4.576923e+05   520178.571429 -0.120125\n",
       "9     3       Bowler         4.143750e+05   520178.571429 -0.203399\n",
       "10    3    W. Keeper         7.000000e+05   520178.571429  0.345692"
      ]
     },
     "execution_count": 96,
     "metadata": {},
     "output_type": "execute_result"
    }
   ],
   "source": [
    "soldprice_comparision"
   ]
  },
  {
   "cell_type": "markdown",
   "id": "18d382a1-ab2d-4293-ac7a-9c0390bbf2dc",
   "metadata": {},
   "source": [
    "FILTERING RECORDS BASED ON CONDITIONS"
   ]
  },
  {
   "cell_type": "code",
   "execution_count": 98,
   "id": "9ad3d0c3-53b3-4b34-a8e9-83d83d3df371",
   "metadata": {},
   "outputs": [
    {
     "data": {
      "text/html": [
       "<div>\n",
       "<style scoped>\n",
       "    .dataframe tbody tr th:only-of-type {\n",
       "        vertical-align: middle;\n",
       "    }\n",
       "\n",
       "    .dataframe tbody tr th {\n",
       "        vertical-align: top;\n",
       "    }\n",
       "\n",
       "    .dataframe thead th {\n",
       "        text-align: right;\n",
       "    }\n",
       "</style>\n",
       "<table border=\"1\" class=\"dataframe\">\n",
       "  <thead>\n",
       "    <tr style=\"text-align: right;\">\n",
       "      <th></th>\n",
       "      <th>PLAYER NAME</th>\n",
       "      <th>SIXERS</th>\n",
       "    </tr>\n",
       "  </thead>\n",
       "  <tbody>\n",
       "    <tr>\n",
       "      <th>15</th>\n",
       "      <td>Dhoni, MS</td>\n",
       "      <td>64</td>\n",
       "    </tr>\n",
       "    <tr>\n",
       "      <th>26</th>\n",
       "      <td>Gayle, CH</td>\n",
       "      <td>129</td>\n",
       "    </tr>\n",
       "    <tr>\n",
       "      <th>28</th>\n",
       "      <td>Gilchrist, AC</td>\n",
       "      <td>86</td>\n",
       "    </tr>\n",
       "    <tr>\n",
       "      <th>82</th>\n",
       "      <td>Pathan, YK</td>\n",
       "      <td>81</td>\n",
       "    </tr>\n",
       "    <tr>\n",
       "      <th>88</th>\n",
       "      <td>Raina, SK</td>\n",
       "      <td>97</td>\n",
       "    </tr>\n",
       "    <tr>\n",
       "      <th>93</th>\n",
       "      <td>Sehwag, V</td>\n",
       "      <td>79</td>\n",
       "    </tr>\n",
       "    <tr>\n",
       "      <th>97</th>\n",
       "      <td>Sharma, RG</td>\n",
       "      <td>82</td>\n",
       "    </tr>\n",
       "    <tr>\n",
       "      <th>116</th>\n",
       "      <td>Uthappa, RV</td>\n",
       "      <td>59</td>\n",
       "    </tr>\n",
       "    <tr>\n",
       "      <th>127</th>\n",
       "      <td>Yuvraj Singh</td>\n",
       "      <td>67</td>\n",
       "    </tr>\n",
       "  </tbody>\n",
       "</table>\n",
       "</div>"
      ],
      "text/plain": [
       "       PLAYER NAME  SIXERS\n",
       "15       Dhoni, MS      64\n",
       "26       Gayle, CH     129\n",
       "28   Gilchrist, AC      86\n",
       "82      Pathan, YK      81\n",
       "88       Raina, SK      97\n",
       "93       Sehwag, V      79\n",
       "97      Sharma, RG      82\n",
       "116    Uthappa, RV      59\n",
       "127   Yuvraj Singh      67"
      ]
     },
     "execution_count": 98,
     "metadata": {},
     "output_type": "execute_result"
    }
   ],
   "source": [
    "# players who have hit more than 50 sixes in the IPL;\n",
    "ipl_auction_df[ipl_auction_df['SIXERS']>50][['PLAYER NAME','SIXERS']]"
   ]
  },
  {
   "cell_type": "raw",
   "id": "e97f2bea-56e7-4de4-909f-7d5256fb1824",
   "metadata": {},
   "source": [
    "REMOVING A COLUMN OR A ROW FROM A DATASET"
   ]
  },
  {
   "cell_type": "code",
   "execution_count": 99,
   "id": "2c13adf3-f124-4b14-96bc-0536755c21a4",
   "metadata": {},
   "outputs": [
    {
     "data": {
      "text/plain": [
       "Index(['PLAYER NAME', 'AGE', 'COUNTRY', 'TEAM', 'PLAYING ROLE', 'T-RUNS',\n",
       "       'T-WKTS', 'ODI-RUNS-S', 'ODI-SR-B', 'ODI-WKTS', 'ODI-SR-BL',\n",
       "       'CAPTAINCY EXP', 'RUNS-S', 'HS', 'AVE', 'SR-B', 'SIXERS', 'RUNS-C',\n",
       "       'WKTS', 'AVE-BL', 'ECON', 'SR-BL', 'AUCTION YEAR', 'BASE PRICE',\n",
       "       'SOLD PRICE', 'premium'],\n",
       "      dtype='object')"
      ]
     },
     "execution_count": 99,
     "metadata": {},
     "output_type": "execute_result"
    }
   ],
   "source": [
    "#to remove a column/row, we can use drop() method on the df;\n",
    "# to avoid creating new df and make changes to the existing df, there is another parameter 'inplace'\n",
    "ipl_auction_df.drop('Sl.NO.', inplace = True, axis = 1)\n",
    "ipl_auction_df.columns"
   ]
  },
  {
   "cell_type": "code",
   "execution_count": 100,
   "id": "8a894b00-d498-4f2c-a800-378faa1b306c",
   "metadata": {},
   "outputs": [
    {
     "data": {
      "image/png": "[encoded data removed]",
      "text/plain": [
       "<Figure size 640x480 with 1 Axes>"
      ]
     },
     "metadata": {},
     "output_type": "display_data"
    }
   ],
   "source": [
    "sns.barplot(x='AGE', y='SOLD PRICE', data = soldprice_by_age)\n",
    "plt.show()"
   ]
  },
  {
   "cell_type": "code",
   "execution_count": 101,
   "id": "f2904fc7-7deb-4d2d-8774-c3c33eb3163a",
   "metadata": {},
   "outputs": [
    {
     "data": {
      "image/png": "[encoded data removed]",
      "text/plain": [
       "<Figure size 640x480 with 1 Axes>"
      ]
     },
     "metadata": {},
     "output_type": "display_data"
    }
   ],
   "source": [
    "sns.barplot(x='AGE', y='SOLD_PRICE_AGE_ROLE', hue = 'PLAYING ROLE',data = soldprice_comparision);\n",
    "\n",
    "plt.show()"
   ]
  },
  {
   "cell_type": "markdown",
   "id": "2952515d-8b59-406f-95df-b19fc5c9cdb3",
   "metadata": {},
   "source": [
    "#### Box Plot"
   ]
  },
  {
   "cell_type": "code",
   "execution_count": 103,
   "id": "083d3dfc-761b-4ccb-9ea4-cda0394caa84",
   "metadata": {},
   "outputs": [
    {
     "data": {
      "image/png": "[encoded data removed]",
      "text/plain": [
       "<Figure size 640x480 with 1 Axes>"
      ]
     },
     "metadata": {},
     "output_type": "display_data"
    }
   ],
   "source": [
    "box = sns.boxplot(ipl_auction_df['SOLD PRICE']);"
   ]
  },
  {
   "cell_type": "code",
   "execution_count": 104,
   "id": "03d47186-61ac-4bf3-9586-6fe5c2c63330",
   "metadata": {},
   "outputs": [
    {
     "data": {
      "image/png": "[encoded data removed]",
      "text/plain": [
       "<Figure size 640x480 with 1 Axes>"
      ]
     },
     "metadata": {},
     "output_type": "display_data"
    }
   ],
   "source": [
    "box = plt.boxplot(ipl_auction_df['SOLD PRICE']);"
   ]
  },
  {
   "cell_type": "markdown",
   "id": "9590d650-65fd-45c8-8f18-7b598107678b",
   "metadata": {},
   "source": [
    "#### Comparing Distributions - "
   ]
  },
  {
   "cell_type": "code",
   "execution_count": 106,
   "id": "a7096a5f-8a14-43b9-8a57-89996572cfe9",
   "metadata": {},
   "outputs": [
    {
     "data": {
      "image/png": "[encoded data removed]",
      "text/plain": [
       "<Figure size 500x500 with 1 Axes>"
      ]
     },
     "metadata": {},
     "output_type": "display_data"
    },
    {
     "data": {
      "image/png": "[encoded data removed]",
      "text/plain": [
       "<Figure size 500x500 with 1 Axes>"
      ]
     },
     "metadata": {},
     "output_type": "display_data"
    }
   ],
   "source": [
    "sns.displot(ipl_auction_df[ipl_auction_df['CAPTAINCY EXP'] == 1]\n",
    "             ['SOLD PRICE'],\n",
    "             color = 'y',\n",
    "             label = 'Captaincy Experience')\n",
    "sns.displot(ipl_auction_df[ipl_auction_df['CAPTAINCY EXP'] == 0]\n",
    "             ['SOLD PRICE'],\n",
    "             color = 'r',\n",
    "             label = 'No Captaincy Experience')\n",
    "plt.legend();"
   ]
  },
  {
   "cell_type": "code",
   "execution_count": 107,
   "id": "b2afcd7b-d4dc-4b9e-b72a-5050b6544fe5",
   "metadata": {},
   "outputs": [
    {
     "name": "stderr",
     "output_type": "stream",
     "text": [
      "C:\\Users\\hp\\AppData\\Local\\Temp\\ipykernel_4268\\3622084401.py:1: FutureWarning: \n",
      "\n",
      "Passing `palette` without assigning `hue` is deprecated and will be removed in v0.14.0. Assign the `x` variable to `hue` and set `legend=False` for the same effect.\n",
      "\n",
      "  sns.boxplot(x = 'PLAYING ROLE', y = 'SOLD PRICE',\n"
     ]
    },
    {
     "data": {
      "image/png": "[encoded data removed]",
      "text/plain": [
       "<Figure size 640x480 with 1 Axes>"
      ]
     },
     "metadata": {},
     "output_type": "display_data"
    }
   ],
   "source": [
    "sns.boxplot(x = 'PLAYING ROLE', y = 'SOLD PRICE',\n",
    "            data = ipl_auction_df,\n",
    "           palette = 'Set2');"
   ]
  },
  {
   "cell_type": "code",
   "execution_count": 108,
   "id": "e93ee133-25f1-4ff9-84f4-820fc30aedd0",
   "metadata": {},
   "outputs": [
    {
     "name": "stderr",
     "output_type": "stream",
     "text": [
      "C:\\Users\\hp\\AppData\\Local\\Temp\\ipykernel_4268\\3123764704.py:6: FutureWarning: \n",
      "\n",
      "Passing `palette` without assigning `hue` is deprecated and will be removed in v0.14.0. Assign the `x` variable to `hue` and set `legend=False` for the same effect.\n",
      "\n",
      "  sns.boxplot(x='PLAYING ROLE', y='SOLD PRICE', data=ipl_auction_df, palette='Set2')\n"
     ]
    },
    {
     "data": {
      "image/png": "[encoded data removed]",
      "text/plain": [
       "<Figure size 800x600 with 1 Axes>"
      ]
     },
     "metadata": {},
     "output_type": "display_data"
    }
   ],
   "source": [
    "# Get unique roles\n",
    "roles = ipl_auction_df['PLAYING ROLE'].unique()\n",
    "\n",
    "# Plot again\n",
    "plt.figure(figsize=(8, 6))\n",
    "sns.boxplot(x='PLAYING ROLE', y='SOLD PRICE', data=ipl_auction_df, palette='Set2')\n",
    "\n",
    "# Loop through each role and identify outliers\n",
    "for role in roles:\n",
    "    subset = ipl_auction_df[ipl_auction_df['PLAYING ROLE'] == role]\n",
    "    q1 = subset['SOLD PRICE'].quantile(0.25)\n",
    "    q3 = subset['SOLD PRICE'].quantile(0.75)\n",
    "    iqr = q3 - q1\n",
    "    lower_bound = q1 - 1.5 * iqr\n",
    "    upper_bound = q3 + 1.5 * iqr\n",
    "\n",
    "    outliers = subset[(subset['SOLD PRICE'] < lower_bound) | (subset['SOLD PRICE'] > upper_bound)]\n",
    "\n",
    "    for i, row in outliers.iterrows():\n",
    "        x_pos = list(roles).index(role)\n",
    "        plt.text(x_pos, row['SOLD PRICE'], row['PLAYER NAME'], fontsize=10, ha='center', color='red')\n",
    "\n",
    "plt.xticks(rotation=45)\n",
    "plt.title('Outliers with Player Names')\n",
    "plt.tight_layout()\n",
    "plt.show()\n"
   ]
  },
  {
   "cell_type": "code",
   "execution_count": 109,
   "id": "bf5b9f2f-f0a7-4cd8-b4bb-04058d8746d1",
   "metadata": {},
   "outputs": [
    {
     "data": {
      "application/vnd.plotly.v1+json": {
       "config": {
        "plotlyServerURL": "https://plot.ly"
       },
       "data": [
        {
         "alignmentgroup": "True",
         "boxpoints": "outliers",
         "customdata": [
          [
           "Abdulla, YA"
          ],
          [
           "Botha, J"
          ],
          [
           "Bravo, DJ"
          ],
          [
           "Chawla, PP"
          ],
          [
           "Dilshan, TM"
          ],
          [
           "Flintoff, A"
          ],
          [
           "Gayle, CH"
          ],
          [
           "Henderson, T"
          ],
          [
           "Henriques, MC"
          ],
          [
           "Hopes, JR"
          ],
          [
           "Hussey, DJ"
          ],
          [
           "Jadeja, RA"
          ],
          [
           "Jaffer, W"
          ],
          [
           "Jayasuriya, ST"
          ],
          [
           "Kallis, JH"
          ],
          [
           "Maharoof, MF"
          ],
          [
           "Mascarenhas, AD"
          ],
          [
           "Mathews, AD"
          ],
          [
           "McDonald, AB"
          ],
          [
           "Morkel, JA"
          ],
          [
           "Nayar, AM"
          ],
          [
           "Noffke, AA"
          ],
          [
           "Oram, JDP"
          ],
          [
           "Pathan, IK"
          ],
          [
           "Pathan, YK"
          ],
          [
           "Pollock, SM"
          ],
          [
           "Ryder, JD"
          ],
          [
           "Shahid Afridi"
          ],
          [
           "Sharma, J"
          ],
          [
           "Shoaib Malik"
          ],
          [
           "Smith, DR"
          ],
          [
           "Styris, SB"
          ],
          [
           "Symonds, A"
          ],
          [
           "Van der Merwe"
          ],
          [
           "Vettori, DL"
          ]
         ],
         "hovertemplate": "PLAYING ROLE=%{x}<br>SOLD PRICE=%{y}<br>PLAYER NAME=%{customdata[0]}<extra></extra>",
         "legendgroup": "Allrounder",
         "marker": {
          "color": "#636efa"
         },
         "name": "Allrounder",
         "notched": false,
         "offsetgroup": "Allrounder",
         "orientation": "v",
         "showlegend": true,
         "type": "box",
         "x": [
          "Allrounder",
          "Allrounder",
          "Allrounder",
          "Allrounder",
          "Allrounder",
          "Allrounder",
          "Allrounder",
          "Allrounder",
          "Allrounder",
          "Allrounder",
          "Allrounder",
          "Allrounder",
          "Allrounder",
          "Allrounder",
          "Allrounder",
          "Allrounder",
          "Allrounder",
          "Allrounder",
          "Allrounder",
          "Allrounder",
          "Allrounder",
          "Allrounder",
          "Allrounder",
          "Allrounder",
          "Allrounder",
          "Allrounder",
          "Allrounder",
          "Allrounder",
          "Allrounder",
          "Allrounder",
          "Allrounder",
          "Allrounder",
          "Allrounder",
          "Allrounder",
          "Allrounder"
         ],
         "x0": " ",
         "xaxis": "x",
         "y": {
          "_inputArray": {
           "0": 50000,
           "1": 950000,
           "10": 625000,
           "11": 950000,
           "12": 150000,
           "13": 975000,
           "14": 900000,
           "15": 225000,
           "16": 100000,
           "17": 950000,
           "18": 80000,
           "19": 675000,
           "2": 200000,
           "20": 800000,
           "21": 20000,
           "22": 675000,
           "23": 925000,
           "24": 475000,
           "25": 550000,
           "26": 160000,
           "27": 675000,
           "28": 225000,
           "29": 500000,
           "3": 400000,
           "30": 100000,
           "31": 175000,
           "32": 1350000,
           "33": 50000,
           "34": 625000,
           "4": 250000,
           "5": 1550000,
           "6": 800000,
           "7": 650000,
           "8": 50000,
           "9": 350000,
           "bdata": "UMMAAPB+DgBADQMAgBoGAJDQAwCwphcAADUMABDrCQBQwwAAMFcFAGiJCQDwfg4A8EkCAJjgDgCguw0A6G4DAKCGAQDwfg4AgDgBALhMCgAANQwAIE4AALhMCgBIHQ4AeD8HAHBkCAAAcQIAuEwKAOhuAwAgoQcAoIYBAJirAgBwmRQAUMMAAGiJCQA=",
           "dtype": "i4",
           "shape": "35"
          },
          "bdata": "UMMAAPB+DgBADQMAgBoGAJDQAwCwphcAADUMABDrCQBQwwAAMFcFAGiJCQDwfg4A8EkCAJjgDgCguw0A6G4DAKCGAQDwfg4AgDgBALhMCgAANQwAIE4AALhMCgBIHQ4AeD8HAHBkCAAAcQIAuEwKAOhuAwAgoQcAoIYBAJirAgBwmRQAUMMAAGiJCQA=",
          "dtype": "i4"
         },
         "y0": " ",
         "yaxis": "y"
        },
        {
         "alignmentgroup": "True",
         "boxpoints": "outliers",
         "customdata": [
          [
           "Abdur Razzak"
          ],
          [
           "Agarkar, AB"
          ],
          [
           "Ashwin, R"
          ],
          [
           "Balaji, L"
          ],
          [
           "Bollinger, DE"
          ],
          [
           "Dinda, AB"
          ],
          [
           "Edwards, FH"
          ],
          [
           "Fernando, CRD"
          ],
          [
           "Gony, MS"
          ],
          [
           "Harbhajan Singh"
          ],
          [
           "Harris, RJ"
          ],
          [
           "Kamran Khan"
          ],
          [
           "Kartik, M"
          ],
          [
           "Kumar, P"
          ],
          [
           "Kumble, A"
          ],
          [
           "Langeveldt, CK"
          ],
          [
           "Lee, B"
          ],
          [
           "Malinga, SL"
          ],
          [
           "McGrath, GD"
          ],
          [
           "Mishra, A"
          ],
          [
           "Mithun, A"
          ],
          [
           "Mohammad Asif"
          ],
          [
           "Morkel, M"
          ],
          [
           "Muralitharan, M"
          ],
          [
           "Nannes, DP"
          ],
          [
           "Nehra, A"
          ],
          [
           "Ntini, M"
          ],
          [
           "Ojha, PP"
          ],
          [
           "Pankaj Singh"
          ],
          [
           "Patel, MM"
          ],
          [
           "Powar, RR"
          ],
          [
           "Sharma, I"
          ],
          [
           "Shoaib Akhtar"
          ],
          [
           "Singh, RP"
          ],
          [
           "Sohail Tanvir"
          ],
          [
           "Sreesanth, S"
          ],
          [
           "Steyn, DW"
          ],
          [
           "Tyagi, S"
          ],
          [
           "Umar Gul"
          ],
          [
           "Vaas, WPUJC"
          ],
          [
           "Vinay Kumar, R"
          ],
          [
           "Warne, SK"
          ],
          [
           "Zaheer Khan"
          ],
          [
           "Zoysa, DNT"
          ]
         ],
         "hovertemplate": "PLAYING ROLE=%{x}<br>SOLD PRICE=%{y}<br>PLAYER NAME=%{customdata[0]}<extra></extra>",
         "legendgroup": "Bowler",
         "marker": {
          "color": "#EF553B"
         },
         "name": "Bowler",
         "notched": false,
         "offsetgroup": "Bowler",
         "orientation": "v",
         "showlegend": true,
         "type": "box",
         "x": [
          "Bowler",
          "Bowler",
          "Bowler",
          "Bowler",
          "Bowler",
          "Bowler",
          "Bowler",
          "Bowler",
          "Bowler",
          "Bowler",
          "Bowler",
          "Bowler",
          "Bowler",
          "Bowler",
          "Bowler",
          "Bowler",
          "Bowler",
          "Bowler",
          "Bowler",
          "Bowler",
          "Bowler",
          "Bowler",
          "Bowler",
          "Bowler",
          "Bowler",
          "Bowler",
          "Bowler",
          "Bowler",
          "Bowler",
          "Bowler",
          "Bowler",
          "Bowler",
          "Bowler",
          "Bowler",
          "Bowler",
          "Bowler",
          "Bowler",
          "Bowler",
          "Bowler",
          "Bowler",
          "Bowler",
          "Bowler",
          "Bowler",
          "Bowler"
         ],
         "x0": " ",
         "xaxis": "x",
         "y": {
          "_inputArray": {
           "0": 50000,
           "1": 350000,
           "10": 325000,
           "11": 24000,
           "12": 425000,
           "13": 800000,
           "14": 500000,
           "15": 140000,
           "16": 900000,
           "17": 350000,
           "18": 350000,
           "19": 300000,
           "2": 850000,
           "20": 260000,
           "21": 650000,
           "22": 475000,
           "23": 600000,
           "24": 650000,
           "25": 850000,
           "26": 200000,
           "27": 500000,
           "28": 95000,
           "29": 275000,
           "3": 500000,
           "30": 170000,
           "31": 950000,
           "32": 425000,
           "33": 875000,
           "34": 100000,
           "35": 625000,
           "36": 325000,
           "37": 240000,
           "38": 150000,
           "39": 200000,
           "4": 700000,
           "40": 475000,
           "41": 450000,
           "42": 450000,
           "43": 110000,
           "5": 375000,
           "6": 150000,
           "7": 150000,
           "8": 290000,
           "9": 850000,
           "bdata": "UMMAADBXBQBQ+AwAIKEHAGCuCgDYuAUA8EkCAPBJAgDQbAQAUPgMAIj1BADAXQAAKHwGAAA1DAAgoQcA4CICAKC7DQAwVwUAMFcFAOCTBACg9wMAEOsJAHg/BwDAJwkAEOsJAFD4DABADQMAIKEHABhzAQA4MgQAEJgCAPB+DgAofAYA+FkNAKCGAQBoiQkAiPUEAICpAwDwSQIAQA0DAHg/BwDQ3QYA0N0GALCtAQA=",
           "dtype": "i4",
           "shape": "44"
          },
          "bdata": "UMMAADBXBQBQ+AwAIKEHAGCuCgDYuAUA8EkCAPBJAgDQbAQAUPgMAIj1BADAXQAAKHwGAAA1DAAgoQcA4CICAKC7DQAwVwUAMFcFAOCTBACg9wMAEOsJAHg/BwDAJwkAEOsJAFD4DABADQMAIKEHABhzAQA4MgQAEJgCAPB+DgAofAYA+FkNAKCGAQBoiQkAiPUEAICpAwDwSQIAQA0DAHg/BwDQ3QYA0N0GALCtAQA=",
          "dtype": "i4"
         },
         "y0": " ",
         "yaxis": "y"
        },
        {
         "alignmentgroup": "True",
         "boxpoints": "outliers",
         "customdata": [
          [
           "Badrinath, S"
          ],
          [
           "Bailey, GJ"
          ],
          [
           "Chanderpaul, S"
          ],
          [
           "Dhawan, S"
          ],
          [
           "Dravid, RS"
          ],
          [
           "Duminy, J-P"
          ],
          [
           "Fleming, SP"
          ],
          [
           "Gambhir, G"
          ],
          [
           "Ganguly, SC"
          ],
          [
           "Gibbs, HH"
          ],
          [
           "Hayden, ML"
          ],
          [
           "Hodge, BJ"
          ],
          [
           "Hussey, MEK"
          ],
          [
           "Jayawardena, DPMD"
          ],
          [
           "Kaif, M"
          ],
          [
           "Katich, SM"
          ],
          [
           "Kohli, V"
          ],
          [
           "Laxman, VVS"
          ],
          [
           "Misbah-ul-Haq"
          ],
          [
           "Pietersen, KP"
          ],
          [
           "Pomersbach, LA"
          ],
          [
           "Ponting, RT"
          ],
          [
           "Raina, SK"
          ],
          [
           "Sarwan, RR"
          ],
          [
           "Sehwag, V"
          ],
          [
           "Sharma, RG"
          ],
          [
           "Silva, LPC"
          ],
          [
           "Smith, GC"
          ],
          [
           "Taylor, LRPL"
          ],
          [
           "Tendulkar, SR"
          ],
          [
           "Tiwary, MK"
          ],
          [
           "Tiwary, SS"
          ],
          [
           "Uthappa, RV"
          ],
          [
           "Venugopal Rao, Y"
          ],
          [
           "Warner, DA"
          ],
          [
           "White, CL"
          ],
          [
           "Yadav, AS"
          ],
          [
           "Younis Khan"
          ],
          [
           "Yuvraj Singh"
          ]
         ],
         "hovertemplate": "PLAYING ROLE=%{x}<br>SOLD PRICE=%{y}<br>PLAYER NAME=%{customdata[0]}<extra></extra>",
         "legendgroup": "Batsman",
         "marker": {
          "color": "#00cc96"
         },
         "name": "Batsman",
         "notched": false,
         "offsetgroup": "Batsman",
         "orientation": "v",
         "showlegend": true,
         "type": "box",
         "x": [
          "Batsman",
          "Batsman",
          "Batsman",
          "Batsman",
          "Batsman",
          "Batsman",
          "Batsman",
          "Batsman",
          "Batsman",
          "Batsman",
          "Batsman",
          "Batsman",
          "Batsman",
          "Batsman",
          "Batsman",
          "Batsman",
          "Batsman",
          "Batsman",
          "Batsman",
          "Batsman",
          "Batsman",
          "Batsman",
          "Batsman",
          "Batsman",
          "Batsman",
          "Batsman",
          "Batsman",
          "Batsman",
          "Batsman",
          "Batsman",
          "Batsman",
          "Batsman",
          "Batsman",
          "Batsman",
          "Batsman",
          "Batsman",
          "Batsman",
          "Batsman",
          "Batsman"
         ],
         "x0": " ",
         "xaxis": "x",
         "y": {
          "_inputArray": {
           "0": 800000,
           "1": 50000,
           "10": 375000,
           "11": 425000,
           "12": 250000,
           "13": 475000,
           "14": 675000,
           "15": 200000,
           "16": 1800000,
           "17": 375000,
           "18": 100000,
           "19": 1550000,
           "2": 200000,
           "20": 50000,
           "21": 400000,
           "22": 650000,
           "23": 225000,
           "24": 1800000,
           "25": 750000,
           "26": 100000,
           "27": 250000,
           "28": 1000000,
           "29": 1800000,
           "3": 300000,
           "30": 675000,
           "31": 1600000,
           "32": 800000,
           "33": 700000,
           "34": 750000,
           "35": 500000,
           "36": 750000,
           "37": 225000,
           "38": 1800000,
           "4": 500000,
           "5": 300000,
           "6": 350000,
           "7": 725000,
           "8": 400000,
           "9": 575000,
           "bdata": "ADUMAFDDAABADQMA4JMEACChBwDgkwQAMFcFAAgQCwCAGgYAGMYIANi4BQAofAYAkNADAHg/BwC4TAoAQA0DAEB3GwDYuAUAoIYBALCmFwBQwwAAgBoGABDrCQDobgMAQHcbALBxCwCghgEAkNADAEBCDwBAdxsAuEwKAABqGAAANQwAYK4KALBxCwAgoQcAsHELAOhuAwBAdxsA",
           "dtype": "i4",
           "shape": "39"
          },
          "bdata": "ADUMAFDDAABADQMA4JMEACChBwDgkwQAMFcFAAgQCwCAGgYAGMYIANi4BQAofAYAkNADAHg/BwC4TAoAQA0DAEB3GwDYuAUAoIYBALCmFwBQwwAAgBoGABDrCQDobgMAQHcbALBxCwCghgEAkNADAEBCDwBAdxsAuEwKAABqGAAANQwAYK4KALBxCwAgoQcAsHELAOhuAwBAdxsA",
          "dtype": "i4"
         },
         "y0": " ",
         "yaxis": "y"
        },
        {
         "alignmentgroup": "True",
         "boxpoints": "outliers",
         "customdata": [
          [
           "Boucher, MV"
          ],
          [
           "de Villiers, AB"
          ],
          [
           "Dhoni, MS"
          ],
          [
           "Gilchrist, AC"
          ],
          [
           "Kamran Akmal"
          ],
          [
           "Karthik, KD"
          ],
          [
           "McCullum, BB"
          ],
          [
           "Ojha, NV"
          ],
          [
           "Patel, PA"
          ],
          [
           "Saha, WP"
          ],
          [
           "Sangakkara, KC"
          ],
          [
           "Taibu, T"
          ]
         ],
         "hovertemplate": "PLAYING ROLE=%{x}<br>SOLD PRICE=%{y}<br>PLAYER NAME=%{customdata[0]}<extra></extra>",
         "legendgroup": "W. Keeper",
         "marker": {
          "color": "#ab63fa"
         },
         "name": "W. Keeper",
         "notched": false,
         "offsetgroup": "W. Keeper",
         "orientation": "v",
         "showlegend": true,
         "type": "box",
         "x": [
          "W. Keeper",
          "W. Keeper",
          "W. Keeper",
          "W. Keeper",
          "W. Keeper",
          "W. Keeper",
          "W. Keeper",
          "W. Keeper",
          "W. Keeper",
          "W. Keeper",
          "W. Keeper",
          "W. Keeper"
         ],
         "x0": " ",
         "xaxis": "x",
         "y": {
          "_inputArray": {
           "0": 450000,
           "1": 300000,
           "10": 700000,
           "11": 125000,
           "2": 1500000,
           "3": 700000,
           "4": 150000,
           "5": 525000,
           "6": 700000,
           "7": 270000,
           "8": 325000,
           "9": 100000,
           "bdata": "0N0GAOCTBABg4xYAYK4KAPBJAgDIAggAYK4KALAeBACI9QQAoIYBAGCuCgBI6AEA",
           "dtype": "i4",
           "shape": "12"
          },
          "bdata": "0N0GAOCTBABg4xYAYK4KAPBJAgDIAggAYK4KALAeBACI9QQAoIYBAGCuCgBI6AEA",
          "dtype": "i4"
         },
         "y0": " ",
         "yaxis": "y"
        }
       ],
       "layout": {
        "autosize": true,
        "boxmode": "overlay",
        "legend": {
         "title": {
          "text": "PLAYING ROLE"
         },
         "tracegroupgap": 0
        },
        "margin": {
         "t": 60
        },
        "template": {
         "data": {
          "bar": [
           {
            "error_x": {
             "color": "#2a3f5f"
            },
            "error_y": {
             "color": "#2a3f5f"
            },
            "marker": {
             "line": {
              "color": "#E5ECF6",
              "width": 0.5
             },
             "pattern": {
              "fillmode": "overlay",
              "size": 10,
              "solidity": 0.2
             }
            },
            "type": "bar"
           }
          ],
          "barpolar": [
           {
            "marker": {
             "line": {
              "color": "#E5ECF6",
              "width": 0.5
             },
             "pattern": {
              "fillmode": "overlay",
              "size": 10,
              "solidity": 0.2
             }
            },
            "type": "barpolar"
           }
          ],
          "carpet": [
           {
            "aaxis": {
             "endlinecolor": "#2a3f5f",
             "gridcolor": "white",
             "linecolor": "white",
             "minorgridcolor": "white",
             "startlinecolor": "#2a3f5f"
            },
            "baxis": {
             "endlinecolor": "#2a3f5f",
             "gridcolor": "white",
             "linecolor": "white",
             "minorgridcolor": "white",
             "startlinecolor": "#2a3f5f"
            },
            "type": "carpet"
           }
          ],
          "choropleth": [
           {
            "colorbar": {
             "outlinewidth": 0,
             "ticks": ""
            },
            "type": "choropleth"
           }
          ],
          "contour": [
           {
            "colorbar": {
             "outlinewidth": 0,
             "ticks": ""
            },
            "colorscale": [
             [
              0,
              "#0d0887"
             ],
             [
              0.1111111111111111,
              "#46039f"
             ],
             [
              0.2222222222222222,
              "#7201a8"
             ],
             [
              0.3333333333333333,
              "#9c179e"
             ],
             [
              0.4444444444444444,
              "#bd3786"
             ],
             [
              0.5555555555555556,
              "#d8576b"
             ],
             [
              0.6666666666666666,
              "#ed7953"
             ],
             [
              0.7777777777777778,
              "#fb9f3a"
             ],
             [
              0.8888888888888888,
              "#fdca26"
             ],
             [
              1,
              "#f0f921"
             ]
            ],
            "type": "contour"
           }
          ],
          "contourcarpet": [
           {
            "colorbar": {
             "outlinewidth": 0,
             "ticks": ""
            },
            "type": "contourcarpet"
           }
          ],
          "heatmap": [
           {
            "colorbar": {
             "outlinewidth": 0,
             "ticks": ""
            },
            "colorscale": [
             [
              0,
              "#0d0887"
             ],
             [
              0.1111111111111111,
              "#46039f"
             ],
             [
              0.2222222222222222,
              "#7201a8"
             ],
             [
              0.3333333333333333,
              "#9c179e"
             ],
             [
              0.4444444444444444,
              "#bd3786"
             ],
             [
              0.5555555555555556,
              "#d8576b"
             ],
             [
              0.6666666666666666,
              "#ed7953"
             ],
             [
              0.7777777777777778,
              "#fb9f3a"
             ],
             [
              0.8888888888888888,
              "#fdca26"
             ],
             [
              1,
              "#f0f921"
             ]
            ],
            "type": "heatmap"
           }
          ],
          "histogram": [
           {
            "marker": {
             "pattern": {
              "fillmode": "overlay",
              "size": 10,
              "solidity": 0.2
             }
            },
            "type": "histogram"
           }
          ],
          "histogram2d": [
           {
            "colorbar": {
             "outlinewidth": 0,
             "ticks": ""
            },
            "colorscale": [
             [
              0,
              "#0d0887"
             ],
             [
              0.1111111111111111,
              "#46039f"
             ],
             [
              0.2222222222222222,
              "#7201a8"
             ],
             [
              0.3333333333333333,
              "#9c179e"
             ],
             [
              0.4444444444444444,
              "#bd3786"
             ],
             [
              0.5555555555555556,
              "#d8576b"
             ],
             [
              0.6666666666666666,
              "#ed7953"
             ],
             [
              0.7777777777777778,
              "#fb9f3a"
             ],
             [
              0.8888888888888888,
              "#fdca26"
             ],
             [
              1,
              "#f0f921"
             ]
            ],
            "type": "histogram2d"
           }
          ],
          "histogram2dcontour": [
           {
            "colorbar": {
             "outlinewidth": 0,
             "ticks": ""
            },
            "colorscale": [
             [
              0,
              "#0d0887"
             ],
             [
              0.1111111111111111,
              "#46039f"
             ],
             [
              0.2222222222222222,
              "#7201a8"
             ],
             [
              0.3333333333333333,
              "#9c179e"
             ],
             [
              0.4444444444444444,
              "#bd3786"
             ],
             [
              0.5555555555555556,
              "#d8576b"
             ],
             [
              0.6666666666666666,
              "#ed7953"
             ],
             [
              0.7777777777777778,
              "#fb9f3a"
             ],
             [
              0.8888888888888888,
              "#fdca26"
             ],
             [
              1,
              "#f0f921"
             ]
            ],
            "type": "histogram2dcontour"
           }
          ],
          "mesh3d": [
           {
            "colorbar": {
             "outlinewidth": 0,
             "ticks": ""
            },
            "type": "mesh3d"
           }
          ],
          "parcoords": [
           {
            "line": {
             "colorbar": {
              "outlinewidth": 0,
              "ticks": ""
             }
            },
            "type": "parcoords"
           }
          ],
          "pie": [
           {
            "automargin": true,
            "type": "pie"
           }
          ],
          "scatter": [
           {
            "fillpattern": {
             "fillmode": "overlay",
             "size": 10,
             "solidity": 0.2
            },
            "type": "scatter"
           }
          ],
          "scatter3d": [
           {
            "line": {
             "colorbar": {
              "outlinewidth": 0,
              "ticks": ""
             }
            },
            "marker": {
             "colorbar": {
              "outlinewidth": 0,
              "ticks": ""
             }
            },
            "type": "scatter3d"
           }
          ],
          "scattercarpet": [
           {
            "marker": {
             "colorbar": {
              "outlinewidth": 0,
              "ticks": ""
             }
            },
            "type": "scattercarpet"
           }
          ],
          "scattergeo": [
           {
            "marker": {
             "colorbar": {
              "outlinewidth": 0,
              "ticks": ""
             }
            },
            "type": "scattergeo"
           }
          ],
          "scattergl": [
           {
            "marker": {
             "colorbar": {
              "outlinewidth": 0,
              "ticks": ""
             }
            },
            "type": "scattergl"
           }
          ],
          "scattermap": [
           {
            "marker": {
             "colorbar": {
              "outlinewidth": 0,
              "ticks": ""
             }
            },
            "type": "scattermap"
           }
          ],
          "scattermapbox": [
           {
            "marker": {
             "colorbar": {
              "outlinewidth": 0,
              "ticks": ""
             }
            },
            "type": "scattermapbox"
           }
          ],
          "scatterpolar": [
           {
            "marker": {
             "colorbar": {
              "outlinewidth": 0,
              "ticks": ""
             }
            },
            "type": "scatterpolar"
           }
          ],
          "scatterpolargl": [
           {
            "marker": {
             "colorbar": {
              "outlinewidth": 0,
              "ticks": ""
             }
            },
            "type": "scatterpolargl"
           }
          ],
          "scatterternary": [
           {
            "marker": {
             "colorbar": {
              "outlinewidth": 0,
              "ticks": ""
             }
            },
            "type": "scatterternary"
           }
          ],
          "surface": [
           {
            "colorbar": {
             "outlinewidth": 0,
             "ticks": ""
            },
            "colorscale": [
             [
              0,
              "#0d0887"
             ],
             [
              0.1111111111111111,
              "#46039f"
             ],
             [
              0.2222222222222222,
              "#7201a8"
             ],
             [
              0.3333333333333333,
              "#9c179e"
             ],
             [
              0.4444444444444444,
              "#bd3786"
             ],
             [
              0.5555555555555556,
              "#d8576b"
             ],
             [
              0.6666666666666666,
              "#ed7953"
             ],
             [
              0.7777777777777778,
              "#fb9f3a"
             ],
             [
              0.8888888888888888,
              "#fdca26"
             ],
             [
              1,
              "#f0f921"
             ]
            ],
            "type": "surface"
           }
          ],
          "table": [
           {
            "cells": {
             "fill": {
              "color": "#EBF0F8"
             },
             "line": {
              "color": "white"
             }
            },
            "header": {
             "fill": {
              "color": "#C8D4E3"
             },
             "line": {
              "color": "white"
             }
            },
            "type": "table"
           }
          ]
         },
         "layout": {
          "annotationdefaults": {
           "arrowcolor": "#2a3f5f",
           "arrowhead": 0,
           "arrowwidth": 1
          },
          "autotypenumbers": "strict",
          "coloraxis": {
           "colorbar": {
            "outlinewidth": 0,
            "ticks": ""
           }
          },
          "colorscale": {
           "diverging": [
            [
             0,
             "#8e0152"
            ],
            [
             0.1,
             "#c51b7d"
            ],
            [
             0.2,
             "#de77ae"
            ],
            [
             0.3,
             "#f1b6da"
            ],
            [
             0.4,
             "#fde0ef"
            ],
            [
             0.5,
             "#f7f7f7"
            ],
            [
             0.6,
             "#e6f5d0"
            ],
            [
             0.7,
             "#b8e186"
            ],
            [
             0.8,
             "#7fbc41"
            ],
            [
             0.9,
             "#4d9221"
            ],
            [
             1,
             "#276419"
            ]
           ],
           "sequential": [
            [
             0,
             "#0d0887"
            ],
            [
             0.1111111111111111,
             "#46039f"
            ],
            [
             0.2222222222222222,
             "#7201a8"
            ],
            [
             0.3333333333333333,
             "#9c179e"
            ],
            [
             0.4444444444444444,
             "#bd3786"
            ],
            [
             0.5555555555555556,
             "#d8576b"
            ],
            [
             0.6666666666666666,
             "#ed7953"
            ],
            [
             0.7777777777777778,
             "#fb9f3a"
            ],
            [
             0.8888888888888888,
             "#fdca26"
            ],
            [
             1,
             "#f0f921"
            ]
           ],
           "sequentialminus": [
            [
             0,
             "#0d0887"
            ],
            [
             0.1111111111111111,
             "#46039f"
            ],
            [
             0.2222222222222222,
             "#7201a8"
            ],
            [
             0.3333333333333333,
             "#9c179e"
            ],
            [
             0.4444444444444444,
             "#bd3786"
            ],
            [
             0.5555555555555556,
             "#d8576b"
            ],
            [
             0.6666666666666666,
             "#ed7953"
            ],
            [
             0.7777777777777778,
             "#fb9f3a"
            ],
            [
             0.8888888888888888,
             "#fdca26"
            ],
            [
             1,
             "#f0f921"
            ]
           ]
          },
          "colorway": [
           "#636efa",
           "#EF553B",
           "#00cc96",
           "#ab63fa",
           "#FFA15A",
           "#19d3f3",
           "#FF6692",
           "#B6E880",
           "#FF97FF",
           "#FECB52"
          ],
          "font": {
           "color": "#2a3f5f"
          },
          "geo": {
           "bgcolor": "white",
           "lakecolor": "white",
           "landcolor": "#E5ECF6",
           "showlakes": true,
           "showland": true,
           "subunitcolor": "white"
          },
          "hoverlabel": {
           "align": "left"
          },
          "hovermode": "closest",
          "mapbox": {
           "style": "light"
          },
          "paper_bgcolor": "white",
          "plot_bgcolor": "#E5ECF6",
          "polar": {
           "angularaxis": {
            "gridcolor": "white",
            "linecolor": "white",
            "ticks": ""
           },
           "bgcolor": "#E5ECF6",
           "radialaxis": {
            "gridcolor": "white",
            "linecolor": "white",
            "ticks": ""
           }
          },
          "scene": {
           "xaxis": {
            "backgroundcolor": "#E5ECF6",
            "gridcolor": "white",
            "gridwidth": 2,
            "linecolor": "white",
            "showbackground": true,
            "ticks": "",
            "zerolinecolor": "white"
           },
           "yaxis": {
            "backgroundcolor": "#E5ECF6",
            "gridcolor": "white",
            "gridwidth": 2,
            "linecolor": "white",
            "showbackground": true,
            "ticks": "",
            "zerolinecolor": "white"
           },
           "zaxis": {
            "backgroundcolor": "#E5ECF6",
            "gridcolor": "white",
            "gridwidth": 2,
            "linecolor": "white",
            "showbackground": true,
            "ticks": "",
            "zerolinecolor": "white"
           }
          },
          "shapedefaults": {
           "line": {
            "color": "#2a3f5f"
           }
          },
          "ternary": {
           "aaxis": {
            "gridcolor": "white",
            "linecolor": "white",
            "ticks": ""
           },
           "baxis": {
            "gridcolor": "white",
            "linecolor": "white",
            "ticks": ""
           },
           "bgcolor": "#E5ECF6",
           "caxis": {
            "gridcolor": "white",
            "linecolor": "white",
            "ticks": ""
           }
          },
          "title": {
           "x": 0.05
          },
          "xaxis": {
           "automargin": true,
           "gridcolor": "white",
           "linecolor": "white",
           "ticks": "",
           "title": {
            "standoff": 15
           },
           "zerolinecolor": "white",
           "zerolinewidth": 2
          },
          "yaxis": {
           "automargin": true,
           "gridcolor": "white",
           "linecolor": "white",
           "ticks": "",
           "title": {
            "standoff": 15
           },
           "zerolinecolor": "white",
           "zerolinewidth": 2
          }
         }
        },
        "title": {
         "text": "IPL Auction: Sold Price by Playing Role"
        },
        "xaxis": {
         "anchor": "y",
         "autorange": true,
         "categoryarray": [
          "Allrounder",
          "Bowler",
          "Batsman",
          "W. Keeper"
         ],
         "categoryorder": "array",
         "domain": [
          0,
          1
         ],
         "range": [
          -0.5,
          3.5
         ],
         "tickangle": -45,
         "title": {
          "text": "Playing Role"
         },
         "type": "category"
        },
        "yaxis": {
         "anchor": "x",
         "autorange": true,
         "domain": [
          0,
          1
         ],
         "range": [
          -78888.88888888892,
          1898888.888888889
         ],
         "title": {
          "text": "Sold Price"
         },
         "type": "linear"
        }
       }
      },
      "image/png": "[encoded data removed]"
     },
     "metadata": {},
     "output_type": "display_data"
    }
   ],
   "source": [
    "import plotly.express as px\n",
    "\n",
    "fig = px.box(ipl_auction_df,\n",
    "             x='PLAYING ROLE',\n",
    "             y='SOLD PRICE',\n",
    "             points='outliers',  # show only outlier dots\n",
    "             hover_data=['PLAYER NAME'],  # show player name on hover\n",
    "             color='PLAYING ROLE')  # different color per role\n",
    "\n",
    "fig.update_layout(\n",
    "    title=\"IPL Auction: Sold Price by Playing Role\",\n",
    "    xaxis_title=\"Playing Role\",\n",
    "    yaxis_title=\"Sold Price\",\n",
    "    xaxis_tickangle=-45\n",
    ")\n",
    "\n",
    "fig.show()"
   ]
  },
  {
   "cell_type": "code",
   "execution_count": 110,
   "id": "23eb5e0c-1b14-4287-940b-5517ab6fc1c2",
   "metadata": {},
   "outputs": [],
   "source": [
    "ipl_batsman_df = ipl_auction_df[ipl_auction_df['PLAYING ROLE'] == 'Batsman']"
   ]
  },
  {
   "cell_type": "code",
   "execution_count": 111,
   "id": "b5ea2beb-e1be-40a0-b9fe-757f07d1ccdf",
   "metadata": {},
   "outputs": [
    {
     "data": {
      "image/png": "[encoded data removed]",
      "text/plain": [
       "<Figure size 640x480 with 1 Axes>"
      ]
     },
     "metadata": {},
     "output_type": "display_data"
    }
   ],
   "source": [
    "plt.scatter(x = ipl_batsman_df.SIXERS,\n",
    "            y = ipl_batsman_df['SOLD PRICE']);"
   ]
  },
  {
   "cell_type": "code",
   "execution_count": 112,
   "id": "1241f97b-aa45-4c20-b79c-75a8fb733f74",
   "metadata": {},
   "outputs": [
    {
     "data": {
      "image/png": "[encoded data removed]",
      "text/plain": [
       "<Figure size 640x480 with 1 Axes>"
      ]
     },
     "metadata": {},
     "output_type": "display_data"
    }
   ],
   "source": [
    "sns.regplot(x = 'SIXERS',\n",
    "            y = 'SOLD PRICE',\n",
    "            data = ipl_batsman_df);"
   ]
  },
  {
   "cell_type": "code",
   "execution_count": 113,
   "id": "b8ca0f04-af19-43a1-b6ff-53479b8a6871",
   "metadata": {},
   "outputs": [
    {
     "data": {
      "application/vnd.plotly.v1+json": {
       "config": {
        "plotlyServerURL": "https://plot.ly"
       },
       "data": [
        {
         "hovertemplate": "SOLD PRICE=%{x}<br>SIXERS=%{y}<extra></extra>",
         "legendgroup": "",
         "marker": {
          "color": "#636efa",
          "symbol": "circle"
         },
         "mode": "markers",
         "name": "",
         "orientation": "v",
         "showlegend": false,
         "type": "scatter",
         "x": {
          "_inputArray": {
           "0": 800000,
           "1": 50000,
           "10": 375000,
           "11": 425000,
           "12": 250000,
           "13": 475000,
           "14": 675000,
           "15": 200000,
           "16": 1800000,
           "17": 375000,
           "18": 100000,
           "19": 1550000,
           "2": 200000,
           "20": 50000,
           "21": 400000,
           "22": 650000,
           "23": 225000,
           "24": 1800000,
           "25": 750000,
           "26": 100000,
           "27": 250000,
           "28": 1000000,
           "29": 1800000,
           "3": 300000,
           "30": 675000,
           "31": 1600000,
           "32": 800000,
           "33": 700000,
           "34": 750000,
           "35": 500000,
           "36": 750000,
           "37": 225000,
           "38": 1800000,
           "4": 500000,
           "5": 300000,
           "6": 350000,
           "7": 725000,
           "8": 400000,
           "9": 575000,
           "bdata": "ADUMAFDDAABADQMA4JMEACChBwDgkwQAMFcFAAgQCwCAGgYAGMYIANi4BQAofAYAkNADAHg/BwC4TAoAQA0DAEB3GwDYuAUAoIYBALCmFwBQwwAAgBoGABDrCQDobgMAQHcbALBxCwCghgEAkNADAEBCDwBAdxsAuEwKAABqGAAANQwAYK4KALBxCwAgoQcAsHELAOhuAwBAdxsA",
           "dtype": "i4",
           "shape": "39"
          },
          "bdata": "ADUMAFDDAABADQMA4JMEACChBwDgkwQAMFcFAAgQCwCAGgYAGMYIANi4BQAofAYAkNADAHg/BwC4TAoAQA0DAEB3GwDYuAUAoIYBALCmFwBQwwAAgBoGABDrCQDobgMAQHcbALBxCwCghgEAkNADAEBCDwBAdxsAuEwKAABqGAAANQwAYK4KALBxCwAgoQcAsHELAOhuAwBAdxsA",
          "dtype": "i4"
         },
         "xaxis": "x",
         "y": {
          "_inputArray": {
           "0": 28,
           "1": 0,
           "10": 44,
           "11": 28,
           "12": 25,
           "13": 33,
           "14": 6,
           "15": 8,
           "16": 49,
           "17": 5,
           "18": 6,
           "19": 30,
           "2": 0,
           "20": 12,
           "21": 1,
           "22": 97,
           "23": 1,
           "24": 79,
           "25": 82,
           "26": 1,
           "27": 9,
           "28": 45,
           "29": 24,
           "3": 36,
           "30": 22,
           "31": 32,
           "32": 59,
           "33": 37,
           "34": 44,
           "35": 29,
           "36": 2,
           "37": 0,
           "38": 67,
           "4": 23,
           "5": 35,
           "6": 3,
           "7": 32,
           "8": 42,
           "9": 31,
           "bdata": "HAAAJBcjAyAqHywcGSEGCDEFBh4MAWEBT1IBCS0YFiA7JSwdAgBD",
           "dtype": "i1",
           "shape": "39"
          },
          "bdata": "HAAAJBcjAyAqHywcGSEGCDEFBh4MAWEBT1IBCS0YFiA7JSwdAgBD",
          "dtype": "i1"
         },
         "yaxis": "y"
        }
       ],
       "layout": {
        "autosize": true,
        "legend": {
         "tracegroupgap": 0
        },
        "margin": {
         "t": 60
        },
        "template": {
         "data": {
          "bar": [
           {
            "error_x": {
             "color": "#2a3f5f"
            },
            "error_y": {
             "color": "#2a3f5f"
            },
            "marker": {
             "line": {
              "color": "#E5ECF6",
              "width": 0.5
             },
             "pattern": {
              "fillmode": "overlay",
              "size": 10,
              "solidity": 0.2
             }
            },
            "type": "bar"
           }
          ],
          "barpolar": [
           {
            "marker": {
             "line": {
              "color": "#E5ECF6",
              "width": 0.5
             },
             "pattern": {
              "fillmode": "overlay",
              "size": 10,
              "solidity": 0.2
             }
            },
            "type": "barpolar"
           }
          ],
          "carpet": [
           {
            "aaxis": {
             "endlinecolor": "#2a3f5f",
             "gridcolor": "white",
             "linecolor": "white",
             "minorgridcolor": "white",
             "startlinecolor": "#2a3f5f"
            },
            "baxis": {
             "endlinecolor": "#2a3f5f",
             "gridcolor": "white",
             "linecolor": "white",
             "minorgridcolor": "white",
             "startlinecolor": "#2a3f5f"
            },
            "type": "carpet"
           }
          ],
          "choropleth": [
           {
            "colorbar": {
             "outlinewidth": 0,
             "ticks": ""
            },
            "type": "choropleth"
           }
          ],
          "contour": [
           {
            "colorbar": {
             "outlinewidth": 0,
             "ticks": ""
            },
            "colorscale": [
             [
              0,
              "#0d0887"
             ],
             [
              0.1111111111111111,
              "#46039f"
             ],
             [
              0.2222222222222222,
              "#7201a8"
             ],
             [
              0.3333333333333333,
              "#9c179e"
             ],
             [
              0.4444444444444444,
              "#bd3786"
             ],
             [
              0.5555555555555556,
              "#d8576b"
             ],
             [
              0.6666666666666666,
              "#ed7953"
             ],
             [
              0.7777777777777778,
              "#fb9f3a"
             ],
             [
              0.8888888888888888,
              "#fdca26"
             ],
             [
              1,
              "#f0f921"
             ]
            ],
            "type": "contour"
           }
          ],
          "contourcarpet": [
           {
            "colorbar": {
             "outlinewidth": 0,
             "ticks": ""
            },
            "type": "contourcarpet"
           }
          ],
          "heatmap": [
           {
            "colorbar": {
             "outlinewidth": 0,
             "ticks": ""
            },
            "colorscale": [
             [
              0,
              "#0d0887"
             ],
             [
              0.1111111111111111,
              "#46039f"
             ],
             [
              0.2222222222222222,
              "#7201a8"
             ],
             [
              0.3333333333333333,
              "#9c179e"
             ],
             [
              0.4444444444444444,
              "#bd3786"
             ],
             [
              0.5555555555555556,
              "#d8576b"
             ],
             [
              0.6666666666666666,
              "#ed7953"
             ],
             [
              0.7777777777777778,
              "#fb9f3a"
             ],
             [
              0.8888888888888888,
              "#fdca26"
             ],
             [
              1,
              "#f0f921"
             ]
            ],
            "type": "heatmap"
           }
          ],
          "histogram": [
           {
            "marker": {
             "pattern": {
              "fillmode": "overlay",
              "size": 10,
              "solidity": 0.2
             }
            },
            "type": "histogram"
           }
          ],
          "histogram2d": [
           {
            "colorbar": {
             "outlinewidth": 0,
             "ticks": ""
            },
            "colorscale": [
             [
              0,
              "#0d0887"
             ],
             [
              0.1111111111111111,
              "#46039f"
             ],
             [
              0.2222222222222222,
              "#7201a8"
             ],
             [
              0.3333333333333333,
              "#9c179e"
             ],
             [
              0.4444444444444444,
              "#bd3786"
             ],
             [
              0.5555555555555556,
              "#d8576b"
             ],
             [
              0.6666666666666666,
              "#ed7953"
             ],
             [
              0.7777777777777778,
              "#fb9f3a"
             ],
             [
              0.8888888888888888,
              "#fdca26"
             ],
             [
              1,
              "#f0f921"
             ]
            ],
            "type": "histogram2d"
           }
          ],
          "histogram2dcontour": [
           {
            "colorbar": {
             "outlinewidth": 0,
             "ticks": ""
            },
            "colorscale": [
             [
              0,
              "#0d0887"
             ],
             [
              0.1111111111111111,
              "#46039f"
             ],
             [
              0.2222222222222222,
              "#7201a8"
             ],
             [
              0.3333333333333333,
              "#9c179e"
             ],
             [
              0.4444444444444444,
              "#bd3786"
             ],
             [
              0.5555555555555556,
              "#d8576b"
             ],
             [
              0.6666666666666666,
              "#ed7953"
             ],
             [
              0.7777777777777778,
              "#fb9f3a"
             ],
             [
              0.8888888888888888,
              "#fdca26"
             ],
             [
              1,
              "#f0f921"
             ]
            ],
            "type": "histogram2dcontour"
           }
          ],
          "mesh3d": [
           {
            "colorbar": {
             "outlinewidth": 0,
             "ticks": ""
            },
            "type": "mesh3d"
           }
          ],
          "parcoords": [
           {
            "line": {
             "colorbar": {
              "outlinewidth": 0,
              "ticks": ""
             }
            },
            "type": "parcoords"
           }
          ],
          "pie": [
           {
            "automargin": true,
            "type": "pie"
           }
          ],
          "scatter": [
           {
            "fillpattern": {
             "fillmode": "overlay",
             "size": 10,
             "solidity": 0.2
            },
            "type": "scatter"
           }
          ],
          "scatter3d": [
           {
            "line": {
             "colorbar": {
              "outlinewidth": 0,
              "ticks": ""
             }
            },
            "marker": {
             "colorbar": {
              "outlinewidth": 0,
              "ticks": ""
             }
            },
            "type": "scatter3d"
           }
          ],
          "scattercarpet": [
           {
            "marker": {
             "colorbar": {
              "outlinewidth": 0,
              "ticks": ""
             }
            },
            "type": "scattercarpet"
           }
          ],
          "scattergeo": [
           {
            "marker": {
             "colorbar": {
              "outlinewidth": 0,
              "ticks": ""
             }
            },
            "type": "scattergeo"
           }
          ],
          "scattergl": [
           {
            "marker": {
             "colorbar": {
              "outlinewidth": 0,
              "ticks": ""
             }
            },
            "type": "scattergl"
           }
          ],
          "scattermap": [
           {
            "marker": {
             "colorbar": {
              "outlinewidth": 0,
              "ticks": ""
             }
            },
            "type": "scattermap"
           }
          ],
          "scattermapbox": [
           {
            "marker": {
             "colorbar": {
              "outlinewidth": 0,
              "ticks": ""
             }
            },
            "type": "scattermapbox"
           }
          ],
          "scatterpolar": [
           {
            "marker": {
             "colorbar": {
              "outlinewidth": 0,
              "ticks": ""
             }
            },
            "type": "scatterpolar"
           }
          ],
          "scatterpolargl": [
           {
            "marker": {
             "colorbar": {
              "outlinewidth": 0,
              "ticks": ""
             }
            },
            "type": "scatterpolargl"
           }
          ],
          "scatterternary": [
           {
            "marker": {
             "colorbar": {
              "outlinewidth": 0,
              "ticks": ""
             }
            },
            "type": "scatterternary"
           }
          ],
          "surface": [
           {
            "colorbar": {
             "outlinewidth": 0,
             "ticks": ""
            },
            "colorscale": [
             [
              0,
              "#0d0887"
             ],
             [
              0.1111111111111111,
              "#46039f"
             ],
             [
              0.2222222222222222,
              "#7201a8"
             ],
             [
              0.3333333333333333,
              "#9c179e"
             ],
             [
              0.4444444444444444,
              "#bd3786"
             ],
             [
              0.5555555555555556,
              "#d8576b"
             ],
             [
              0.6666666666666666,
              "#ed7953"
             ],
             [
              0.7777777777777778,
              "#fb9f3a"
             ],
             [
              0.8888888888888888,
              "#fdca26"
             ],
             [
              1,
              "#f0f921"
             ]
            ],
            "type": "surface"
           }
          ],
          "table": [
           {
            "cells": {
             "fill": {
              "color": "#EBF0F8"
             },
             "line": {
              "color": "white"
             }
            },
            "header": {
             "fill": {
              "color": "#C8D4E3"
             },
             "line": {
              "color": "white"
             }
            },
            "type": "table"
           }
          ]
         },
         "layout": {
          "annotationdefaults": {
           "arrowcolor": "#2a3f5f",
           "arrowhead": 0,
           "arrowwidth": 1
          },
          "autotypenumbers": "strict",
          "coloraxis": {
           "colorbar": {
            "outlinewidth": 0,
            "ticks": ""
           }
          },
          "colorscale": {
           "diverging": [
            [
             0,
             "#8e0152"
            ],
            [
             0.1,
             "#c51b7d"
            ],
            [
             0.2,
             "#de77ae"
            ],
            [
             0.3,
             "#f1b6da"
            ],
            [
             0.4,
             "#fde0ef"
            ],
            [
             0.5,
             "#f7f7f7"
            ],
            [
             0.6,
             "#e6f5d0"
            ],
            [
             0.7,
             "#b8e186"
            ],
            [
             0.8,
             "#7fbc41"
            ],
            [
             0.9,
             "#4d9221"
            ],
            [
             1,
             "#276419"
            ]
           ],
           "sequential": [
            [
             0,
             "#0d0887"
            ],
            [
             0.1111111111111111,
             "#46039f"
            ],
            [
             0.2222222222222222,
             "#7201a8"
            ],
            [
             0.3333333333333333,
             "#9c179e"
            ],
            [
             0.4444444444444444,
             "#bd3786"
            ],
            [
             0.5555555555555556,
             "#d8576b"
            ],
            [
             0.6666666666666666,
             "#ed7953"
            ],
            [
             0.7777777777777778,
             "#fb9f3a"
            ],
            [
             0.8888888888888888,
             "#fdca26"
            ],
            [
             1,
             "#f0f921"
            ]
           ],
           "sequentialminus": [
            [
             0,
             "#0d0887"
            ],
            [
             0.1111111111111111,
             "#46039f"
            ],
            [
             0.2222222222222222,
             "#7201a8"
            ],
            [
             0.3333333333333333,
             "#9c179e"
            ],
            [
             0.4444444444444444,
             "#bd3786"
            ],
            [
             0.5555555555555556,
             "#d8576b"
            ],
            [
             0.6666666666666666,
             "#ed7953"
            ],
            [
             0.7777777777777778,
             "#fb9f3a"
            ],
            [
             0.8888888888888888,
             "#fdca26"
            ],
            [
             1,
             "#f0f921"
            ]
           ]
          },
          "colorway": [
           "#636efa",
           "#EF553B",
           "#00cc96",
           "#ab63fa",
           "#FFA15A",
           "#19d3f3",
           "#FF6692",
           "#B6E880",
           "#FF97FF",
           "#FECB52"
          ],
          "font": {
           "color": "#2a3f5f"
          },
          "geo": {
           "bgcolor": "white",
           "lakecolor": "white",
           "landcolor": "#E5ECF6",
           "showlakes": true,
           "showland": true,
           "subunitcolor": "white"
          },
          "hoverlabel": {
           "align": "left"
          },
          "hovermode": "closest",
          "mapbox": {
           "style": "light"
          },
          "paper_bgcolor": "white",
          "plot_bgcolor": "#E5ECF6",
          "polar": {
           "angularaxis": {
            "gridcolor": "white",
            "linecolor": "white",
            "ticks": ""
           },
           "bgcolor": "#E5ECF6",
           "radialaxis": {
            "gridcolor": "white",
            "linecolor": "white",
            "ticks": ""
           }
          },
          "scene": {
           "xaxis": {
            "backgroundcolor": "#E5ECF6",
            "gridcolor": "white",
            "gridwidth": 2,
            "linecolor": "white",
            "showbackground": true,
            "ticks": "",
            "zerolinecolor": "white"
           },
           "yaxis": {
            "backgroundcolor": "#E5ECF6",
            "gridcolor": "white",
            "gridwidth": 2,
            "linecolor": "white",
            "showbackground": true,
            "ticks": "",
            "zerolinecolor": "white"
           },
           "zaxis": {
            "backgroundcolor": "#E5ECF6",
            "gridcolor": "white",
            "gridwidth": 2,
            "linecolor": "white",
            "showbackground": true,
            "ticks": "",
            "zerolinecolor": "white"
           }
          },
          "shapedefaults": {
           "line": {
            "color": "#2a3f5f"
           }
          },
          "ternary": {
           "aaxis": {
            "gridcolor": "white",
            "linecolor": "white",
            "ticks": ""
           },
           "baxis": {
            "gridcolor": "white",
            "linecolor": "white",
            "ticks": ""
           },
           "bgcolor": "#E5ECF6",
           "caxis": {
            "gridcolor": "white",
            "linecolor": "white",
            "ticks": ""
           }
          },
          "title": {
           "x": 0.05
          },
          "xaxis": {
           "automargin": true,
           "gridcolor": "white",
           "linecolor": "white",
           "ticks": "",
           "title": {
            "standoff": 15
           },
           "zerolinecolor": "white",
           "zerolinewidth": 2
          },
          "yaxis": {
           "automargin": true,
           "gridcolor": "white",
           "linecolor": "white",
           "ticks": "",
           "title": {
            "standoff": 15
           },
           "zerolinecolor": "white",
           "zerolinewidth": 2
          }
         }
        },
        "xaxis": {
         "anchor": "y",
         "autorange": true,
         "domain": [
          0,
          1
         ],
         "range": [
          -62460.81504702194,
          1912460.815047022
         ],
         "title": {
          "text": "SOLD PRICE"
         },
         "type": "linear"
        },
        "yaxis": {
         "anchor": "x",
         "autorange": true,
         "domain": [
          0,
          1
         ],
         "range": [
          -7.510498687664042,
          104.51049868766404
         ],
         "title": {
          "text": "SIXERS"
         },
         "type": "linear"
        }
       }
      }
     },
     "metadata": {},
     "output_type": "display_data"
    }
   ],
   "source": [
    "px.scatter(data_frame= ipl_batsman_df , x= 'SOLD PRICE' , y= 'SIXERS')"
   ]
  },
  {
   "cell_type": "markdown",
   "id": "e3ac1c04-e11c-4cbd-9dab-0c4e7a8d1cd6",
   "metadata": {},
   "source": [
    "#### Pair Plot"
   ]
  },
  {
   "cell_type": "code",
   "execution_count": 209,
   "id": "86b399d3-b46e-4964-bc81-d1b272fb08a5",
   "metadata": {},
   "outputs": [],
   "source": [
    "## used for more than one variable- "
   ]
  },
  {
   "cell_type": "code",
   "execution_count": 215,
   "id": "022243c6-29b5-4710-a9b7-535bbd974e54",
   "metadata": {},
   "outputs": [],
   "source": [
    "influential_features = ['SR-B', 'AVE', 'SIXERS', 'SOLD PRICE']"
   ]
  },
  {
   "cell_type": "code",
   "execution_count": 221,
   "id": "5fa3cd2e-a8df-441a-914b-761bff03f818",
   "metadata": {},
   "outputs": [
    {
     "data": {
      "text/plain": [
       "<seaborn.axisgrid.PairGrid at 0x23252f8f3d0>"
      ]
     },
     "execution_count": 221,
     "metadata": {},
     "output_type": "execute_result"
    },
    {
     "data": {
      "image/png": "[encoded data removed]",
      "text/plain": [
       "<Figure size 800x800 with 20 Axes>"
      ]
     },
     "metadata": {},
     "output_type": "display_data"
    }
   ],
   "source": [
    "sns.pairplot(ipl_auction_df[influential_features], height =2)"
   ]
  },
  {
   "cell_type": "markdown",
   "id": "954d1854-df32-4048-a2e0-e2f2c3857035",
   "metadata": {},
   "source": [
    "#### Correlation and HeatMap"
   ]
  },
  {
   "cell_type": "code",
   "execution_count": 232,
   "id": "70239397-74ee-4067-b570-eac96d9c8ef9",
   "metadata": {},
   "outputs": [
    {
     "data": {
      "text/html": [
       "<div>\n",
       "<style scoped>\n",
       "    .dataframe tbody tr th:only-of-type {\n",
       "        vertical-align: middle;\n",
       "    }\n",
       "\n",
       "    .dataframe tbody tr th {\n",
       "        vertical-align: top;\n",
       "    }\n",
       "\n",
       "    .dataframe thead th {\n",
       "        text-align: right;\n",
       "    }\n",
       "</style>\n",
       "<table border=\"1\" class=\"dataframe\">\n",
       "  <thead>\n",
       "    <tr style=\"text-align: right;\">\n",
       "      <th></th>\n",
       "      <th>SR-B</th>\n",
       "      <th>AVE</th>\n",
       "      <th>SIXERS</th>\n",
       "      <th>SOLD PRICE</th>\n",
       "    </tr>\n",
       "  </thead>\n",
       "  <tbody>\n",
       "    <tr>\n",
       "      <th>SR-B</th>\n",
       "      <td>1.000000</td>\n",
       "      <td>0.583579</td>\n",
       "      <td>0.425394</td>\n",
       "      <td>0.184278</td>\n",
       "    </tr>\n",
       "    <tr>\n",
       "      <th>AVE</th>\n",
       "      <td>0.583579</td>\n",
       "      <td>1.000000</td>\n",
       "      <td>0.705365</td>\n",
       "      <td>0.396519</td>\n",
       "    </tr>\n",
       "    <tr>\n",
       "      <th>SIXERS</th>\n",
       "      <td>0.425394</td>\n",
       "      <td>0.705365</td>\n",
       "      <td>1.000000</td>\n",
       "      <td>0.450609</td>\n",
       "    </tr>\n",
       "    <tr>\n",
       "      <th>SOLD PRICE</th>\n",
       "      <td>0.184278</td>\n",
       "      <td>0.396519</td>\n",
       "      <td>0.450609</td>\n",
       "      <td>1.000000</td>\n",
       "    </tr>\n",
       "  </tbody>\n",
       "</table>\n",
       "</div>"
      ],
      "text/plain": [
       "                SR-B       AVE    SIXERS  SOLD PRICE\n",
       "SR-B        1.000000  0.583579  0.425394    0.184278\n",
       "AVE         0.583579  1.000000  0.705365    0.396519\n",
       "SIXERS      0.425394  0.705365  1.000000    0.450609\n",
       "SOLD PRICE  0.184278  0.396519  0.450609    1.000000"
      ]
     },
     "execution_count": 232,
     "metadata": {},
     "output_type": "execute_result"
    }
   ],
   "source": [
    "ipl_auction_df[influential_features].corr()"
   ]
  },
  {
   "cell_type": "code",
   "execution_count": 236,
   "id": "549e24b1-d76c-451d-a760-478f6a0b32df",
   "metadata": {},
   "outputs": [
    {
     "data": {
      "image/png": "[encoded data removed]",
      "text/plain": [
       "<Figure size 640x480 with 2 Axes>"
      ]
     },
     "metadata": {},
     "output_type": "display_data"
    }
   ],
   "source": [
    "sns.heatmap(ipl_auction_df[influential_features].corr(), annot = True);"
   ]
  },
  {
   "cell_type": "code",
   "execution_count": null,
   "id": "74b9c175-6bef-4098-bfbf-df530eb41086",
   "metadata": {},
   "outputs": [],
   "source": [
    " "
   ]
  }
 ],
 "metadata": {
  "kernelspec": {
   "display_name": "Python [conda env:tf_env]",
   "language": "python",
   "name": "conda-env-tf_env-py"
  },
  "language_info": {
   "codemirror_mode": {
    "name": "ipython",
    "version": 3
   },
   "file_extension": ".py",
   "mimetype": "text/x-python",
   "name": "python",
   "nbconvert_exporter": "python",
   "pygments_lexer": "ipython3",
   "version": "3.10.18"
  }
 },
 "nbformat": 4,
 "nbformat_minor": 5
}
